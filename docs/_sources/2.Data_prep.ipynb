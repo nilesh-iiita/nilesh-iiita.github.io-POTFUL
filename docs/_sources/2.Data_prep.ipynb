{
 "cells": [
  {
   "cell_type": "markdown",
   "metadata": {},
   "source": [
    "# Data pre-processing\n",
    "\n",
    "There are two types of files required to POTFUL to work.\n",
    "\n",
    "\n",
    "1. `Auxiliary files` : Organism specific files\n",
    "2. `Sample(s) files` : Experiment specific files\n"
   ]
  },
  {
   "cell_type": "code",
   "execution_count": 36,
   "metadata": {},
   "outputs": [],
   "source": [
    "import pandas as pd\n",
    "\n",
    "def make_pretty(styler):\n",
    "    styler.background_gradient(axis=None, cmap=\"YlGnBu\")\n",
    "    return styler"
   ]
  },
  {
   "cell_type": "markdown",
   "metadata": {},
   "source": [
    "## 1. Auxiliary files"
   ]
  },
  {
   "cell_type": "markdown",
   "metadata": {},
   "source": [
    "These files includes:\n",
    "### [WGCNA_COLOR_MAP.csv](https://raw.githubusercontent.com/nilesh-iiita/POTFUL/main/Auxiliary_File/WGCNA_COLOR_MAP.csv)\n",
    "\n",
    "WGCNA color map file, fixed for all experiments.\n",
    "\n",
    "`Comma-separated values`\n"
   ]
  },
  {
   "cell_type": "code",
   "execution_count": 15,
   "metadata": {},
   "outputs": [
    {
     "data": {
      "text/html": [
       "<div>\n",
       "<style scoped>\n",
       "    .dataframe tbody tr th:only-of-type {\n",
       "        vertical-align: middle;\n",
       "    }\n",
       "\n",
       "    .dataframe tbody tr th {\n",
       "        vertical-align: top;\n",
       "    }\n",
       "\n",
       "    .dataframe thead th {\n",
       "        text-align: right;\n",
       "    }\n",
       "</style>\n",
       "<table border=\"1\" class=\"dataframe\">\n",
       "  <thead>\n",
       "    <tr style=\"text-align: right;\">\n",
       "      <th></th>\n",
       "      <th>Color_name</th>\n",
       "      <th>Color_hex</th>\n",
       "    </tr>\n",
       "  </thead>\n",
       "  <tbody>\n",
       "    <tr>\n",
       "      <th>0</th>\n",
       "      <td>grey</td>\n",
       "      <td>#BEBEBE</td>\n",
       "    </tr>\n",
       "    <tr>\n",
       "      <th>1</th>\n",
       "      <td>turquoise</td>\n",
       "      <td>#40E0D0</td>\n",
       "    </tr>\n",
       "    <tr>\n",
       "      <th>2</th>\n",
       "      <td>blue</td>\n",
       "      <td>#0000FF</td>\n",
       "    </tr>\n",
       "    <tr>\n",
       "      <th>3</th>\n",
       "      <td>brown</td>\n",
       "      <td>#A52A2A</td>\n",
       "    </tr>\n",
       "    <tr>\n",
       "      <th>4</th>\n",
       "      <td>yellow</td>\n",
       "      <td>#FFFF00</td>\n",
       "    </tr>\n",
       "  </tbody>\n",
       "</table>\n",
       "</div>"
      ],
      "text/plain": [
       "  Color_name Color_hex\n",
       "0       grey   #BEBEBE\n",
       "1  turquoise   #40E0D0\n",
       "2       blue   #0000FF\n",
       "3      brown   #A52A2A\n",
       "4     yellow   #FFFF00"
      ]
     },
     "execution_count": 15,
     "metadata": {},
     "output_type": "execute_result"
    }
   ],
   "source": [
    "pd.read_csv(\"Auxiliary_File/WGCNA_COLOR_MAP.csv\", sep=\",\").head()"
   ]
  },
  {
   "cell_type": "markdown",
   "metadata": {},
   "source": [
    "### [masterTF-target.txt](https://github.com/nilesh-iiita/POTFUL/blob/main/Auxiliary_File/masterTF-target.txt)\n",
    "\n",
    "Curated TF-target network, specific for *Arabidopsis thaliana*. For data of different species, organism specific TF-target data is required.\n",
    "\n",
    "`Tab-separated values`\n"
   ]
  },
  {
   "cell_type": "code",
   "execution_count": 40,
   "metadata": {},
   "outputs": [
    {
     "data": {
      "text/html": [
       "<style type=\"text/css\">\n",
       "#T_50aa0_row0_col2, #T_50aa0_row1_col2, #T_50aa0_row2_col2, #T_50aa0_row3_col2, #T_50aa0_row4_col2 {\n",
       "  background-color: #ffffd9;\n",
       "  color: #000000;\n",
       "}\n",
       "</style>\n",
       "<table id=\"T_50aa0\">\n",
       "  <thead>\n",
       "    <tr>\n",
       "      <th class=\"blank level0\" >&nbsp;</th>\n",
       "      <th id=\"T_50aa0_level0_col0\" class=\"col_heading level0 col0\" >TF</th>\n",
       "      <th id=\"T_50aa0_level0_col1\" class=\"col_heading level0 col1\" >Gene</th>\n",
       "      <th id=\"T_50aa0_level0_col2\" class=\"col_heading level0 col2\" >Input</th>\n",
       "    </tr>\n",
       "  </thead>\n",
       "  <tbody>\n",
       "    <tr>\n",
       "      <th id=\"T_50aa0_level0_row0\" class=\"row_heading level0 row0\" >0</th>\n",
       "      <td id=\"T_50aa0_row0_col0\" class=\"data row0 col0\" >AT1G08290</td>\n",
       "      <td id=\"T_50aa0_row0_col1\" class=\"data row0 col1\" >AT5G66250</td>\n",
       "      <td id=\"T_50aa0_row0_col2\" class=\"data row0 col2\" >1</td>\n",
       "    </tr>\n",
       "    <tr>\n",
       "      <th id=\"T_50aa0_level0_row1\" class=\"row_heading level0 row1\" >1</th>\n",
       "      <td id=\"T_50aa0_row1_col0\" class=\"data row1 col0\" >AT1G08290</td>\n",
       "      <td id=\"T_50aa0_row1_col1\" class=\"data row1 col1\" >AT5G65920</td>\n",
       "      <td id=\"T_50aa0_row1_col2\" class=\"data row1 col2\" >1</td>\n",
       "    </tr>\n",
       "    <tr>\n",
       "      <th id=\"T_50aa0_level0_row2\" class=\"row_heading level0 row2\" >2</th>\n",
       "      <td id=\"T_50aa0_row2_col0\" class=\"data row2 col0\" >AT1G08290</td>\n",
       "      <td id=\"T_50aa0_row2_col1\" class=\"data row2 col1\" >AT5G65005</td>\n",
       "      <td id=\"T_50aa0_row2_col2\" class=\"data row2 col2\" >1</td>\n",
       "    </tr>\n",
       "    <tr>\n",
       "      <th id=\"T_50aa0_level0_row3\" class=\"row_heading level0 row3\" >3</th>\n",
       "      <td id=\"T_50aa0_row3_col0\" class=\"data row3 col0\" >AT1G08290</td>\n",
       "      <td id=\"T_50aa0_row3_col1\" class=\"data row3 col1\" >AT5G37660</td>\n",
       "      <td id=\"T_50aa0_row3_col2\" class=\"data row3 col2\" >1</td>\n",
       "    </tr>\n",
       "    <tr>\n",
       "      <th id=\"T_50aa0_level0_row4\" class=\"row_heading level0 row4\" >4</th>\n",
       "      <td id=\"T_50aa0_row4_col0\" class=\"data row4 col0\" >AT1G08290</td>\n",
       "      <td id=\"T_50aa0_row4_col1\" class=\"data row4 col1\" >AT5G26990</td>\n",
       "      <td id=\"T_50aa0_row4_col2\" class=\"data row4 col2\" >1</td>\n",
       "    </tr>\n",
       "  </tbody>\n",
       "</table>\n"
      ],
      "text/plain": [
       "<pandas.io.formats.style.Styler at 0x7fd59fbb1870>"
      ]
     },
     "execution_count": 40,
     "metadata": {},
     "output_type": "execute_result"
    }
   ],
   "source": [
    "pd.read_csv(\"Auxiliary_File/masterTF-target.txt\", sep=\"\\t\").head().style.pipe(make_pretty)"
   ]
  },
  {
   "cell_type": "markdown",
   "metadata": {},
   "source": [
    "### [Arabidopsis_TF and family.csv](https://github.com/nilesh-iiita/POTFUL/blob/main/Auxiliary_File/Arabidopsis_TF%20and%20family.csv)\n",
    "\n",
    "List TF and their family, specific for *Arabidopsis thaliana*. For data of different species, organism specific TF-family data is required.\n",
    "\n",
    "`Comma-separated values`\n"
   ]
  },
  {
   "cell_type": "code",
   "execution_count": 16,
   "metadata": {},
   "outputs": [
    {
     "data": {
      "text/html": [
       "<div>\n",
       "<style scoped>\n",
       "    .dataframe tbody tr th:only-of-type {\n",
       "        vertical-align: middle;\n",
       "    }\n",
       "\n",
       "    .dataframe tbody tr th {\n",
       "        vertical-align: top;\n",
       "    }\n",
       "\n",
       "    .dataframe thead th {\n",
       "        text-align: right;\n",
       "    }\n",
       "</style>\n",
       "<table border=\"1\" class=\"dataframe\">\n",
       "  <thead>\n",
       "    <tr style=\"text-align: right;\">\n",
       "      <th></th>\n",
       "      <th>Protein ID</th>\n",
       "      <th>TF-Family</th>\n",
       "    </tr>\n",
       "  </thead>\n",
       "  <tbody>\n",
       "    <tr>\n",
       "      <th>0</th>\n",
       "      <td>AT1G04880</td>\n",
       "      <td>ARID</td>\n",
       "    </tr>\n",
       "    <tr>\n",
       "      <th>1</th>\n",
       "      <td>AT1G20910</td>\n",
       "      <td>ARID</td>\n",
       "    </tr>\n",
       "    <tr>\n",
       "      <th>2</th>\n",
       "      <td>AT1G55650</td>\n",
       "      <td>ARID</td>\n",
       "    </tr>\n",
       "    <tr>\n",
       "      <th>3</th>\n",
       "      <td>AT1G76110</td>\n",
       "      <td>ARID</td>\n",
       "    </tr>\n",
       "    <tr>\n",
       "      <th>4</th>\n",
       "      <td>AT1G76510</td>\n",
       "      <td>ARID</td>\n",
       "    </tr>\n",
       "  </tbody>\n",
       "</table>\n",
       "</div>"
      ],
      "text/plain": [
       "  Protein ID TF-Family\n",
       "0  AT1G04880      ARID\n",
       "1  AT1G20910      ARID\n",
       "2  AT1G55650      ARID\n",
       "3  AT1G76110      ARID\n",
       "4  AT1G76510      ARID"
      ]
     },
     "execution_count": 16,
     "metadata": {},
     "output_type": "execute_result"
    }
   ],
   "source": [
    "pd.read_csv(\"Auxiliary_File/Arabidopsis_TF and family.csv\", sep=\",\").head()"
   ]
  },
  {
   "cell_type": "markdown",
   "metadata": {},
   "source": [
    "## Sample(s) files\n",
    "\n",
    "These files includes file which are specific to experiment.\n"
   ]
  },
  {
   "cell_type": "markdown",
   "metadata": {},
   "source": [
    "### Co-expression "
   ]
  },
  {
   "cell_type": "markdown",
   "metadata": {},
   "source": [
    "### WGCNA node file\n",
    "\n",
    "`Tab-separated values`\n",
    "`Must have header, column name can be anything.`\n",
    "\n",
    "1. 1<sup>st</sup> column gene ID/Probe ID.\n",
    "2. 2<sup>nd</sup> column gene name or symbol. Often the 1<sup>st</sup> and 2<sup>nd</sup> column are same.\n",
    "3. 3<sup>rd</sup> column is WGCNA module color."
   ]
  },
  {
   "cell_type": "code",
   "execution_count": 39,
   "metadata": {},
   "outputs": [
    {
     "data": {
      "text/html": [
       "<div>\n",
       "<style scoped>\n",
       "    .dataframe tbody tr th:only-of-type {\n",
       "        vertical-align: middle;\n",
       "    }\n",
       "\n",
       "    .dataframe tbody tr th {\n",
       "        vertical-align: top;\n",
       "    }\n",
       "\n",
       "    .dataframe thead th {\n",
       "        text-align: right;\n",
       "    }\n",
       "</style>\n",
       "<table border=\"1\" class=\"dataframe\">\n",
       "  <thead>\n",
       "    <tr style=\"text-align: right;\">\n",
       "      <th></th>\n",
       "      <th>nodeName</th>\n",
       "      <th>altName</th>\n",
       "      <th>nodeAttr[nodesPresent, ]</th>\n",
       "    </tr>\n",
       "  </thead>\n",
       "  <tbody>\n",
       "    <tr>\n",
       "      <th>0</th>\n",
       "      <td>244901_at</td>\n",
       "      <td>ATMG00640</td>\n",
       "      <td>turquoise</td>\n",
       "    </tr>\n",
       "    <tr>\n",
       "      <th>1</th>\n",
       "      <td>244929_at</td>\n",
       "      <td>ATMG00580</td>\n",
       "      <td>brown</td>\n",
       "    </tr>\n",
       "    <tr>\n",
       "      <th>2</th>\n",
       "      <td>244979_at</td>\n",
       "      <td>ATCG00750</td>\n",
       "      <td>blue</td>\n",
       "    </tr>\n",
       "    <tr>\n",
       "      <th>3</th>\n",
       "      <td>245031_at</td>\n",
       "      <td>AT2G26360</td>\n",
       "      <td>blue</td>\n",
       "    </tr>\n",
       "    <tr>\n",
       "      <th>4</th>\n",
       "      <td>245035_at</td>\n",
       "      <td>AT2G26400</td>\n",
       "      <td>brown</td>\n",
       "    </tr>\n",
       "  </tbody>\n",
       "</table>\n",
       "</div>"
      ],
      "text/plain": [
       "    nodeName    altName nodeAttr[nodesPresent, ]\n",
       "0  244901_at  ATMG00640                turquoise\n",
       "1  244929_at  ATMG00580                    brown\n",
       "2  244979_at  ATCG00750                     blue\n",
       "3  245031_at  AT2G26360                     blue\n",
       "4  245035_at  AT2G26400                    brown"
      ]
     },
     "execution_count": 39,
     "metadata": {},
     "output_type": "execute_result"
    }
   ],
   "source": [
    "pd.read_csv(\"Data/2_WGCNA_data/WGCNA_GSE30166_pH/CytoscapeInput-nodes-pH_Anno.txt\", sep=\"\\t\").head()"
   ]
  },
  {
   "cell_type": "markdown",
   "metadata": {},
   "source": [
    "### WGCNA edge file\n",
    "\n",
    "`Tab-separated values`\n",
    "\n",
    "1. 1<sup>st</sup> column gene A.\n",
    "2. 2<sup>nd</sup> column gene B.\n",
    "3. 3<sup>rd</sup> column is WGCNA edge weight."
   ]
  },
  {
   "cell_type": "code",
   "execution_count": 37,
   "metadata": {},
   "outputs": [
    {
     "data": {
      "text/html": [
       "<style type=\"text/css\">\n",
       "#T_b7446_row0_col2 {\n",
       "  background-color: #d7efb3;\n",
       "  color: #000000;\n",
       "}\n",
       "#T_b7446_row1_col2 {\n",
       "  background-color: #ffffd9;\n",
       "  color: #000000;\n",
       "}\n",
       "#T_b7446_row2_col2 {\n",
       "  background-color: #57bec1;\n",
       "  color: #000000;\n",
       "}\n",
       "#T_b7446_row3_col2 {\n",
       "  background-color: #1f7db6;\n",
       "  color: #f1f1f1;\n",
       "}\n",
       "#T_b7446_row4_col2 {\n",
       "  background-color: #081d58;\n",
       "  color: #f1f1f1;\n",
       "}\n",
       "</style>\n",
       "<table id=\"T_b7446\">\n",
       "  <thead>\n",
       "    <tr>\n",
       "      <th class=\"blank level0\" >&nbsp;</th>\n",
       "      <th id=\"T_b7446_level0_col0\" class=\"col_heading level0 col0\" >fromNode</th>\n",
       "      <th id=\"T_b7446_level0_col1\" class=\"col_heading level0 col1\" >toNode</th>\n",
       "      <th id=\"T_b7446_level0_col2\" class=\"col_heading level0 col2\" >weight</th>\n",
       "    </tr>\n",
       "  </thead>\n",
       "  <tbody>\n",
       "    <tr>\n",
       "      <th id=\"T_b7446_level0_row0\" class=\"row_heading level0 row0\" >0</th>\n",
       "      <td id=\"T_b7446_row0_col0\" class=\"data row0 col0\" >ATMG00680</td>\n",
       "      <td id=\"T_b7446_row0_col1\" class=\"data row0 col1\" >AT5G66530</td>\n",
       "      <td id=\"T_b7446_row0_col2\" class=\"data row0 col2\" >0.838411</td>\n",
       "    </tr>\n",
       "    <tr>\n",
       "      <th id=\"T_b7446_level0_row1\" class=\"row_heading level0 row1\" >1</th>\n",
       "      <td id=\"T_b7446_row1_col0\" class=\"data row1 col0\" >ATMG00710</td>\n",
       "      <td id=\"T_b7446_row1_col1\" class=\"data row1 col1\" >AT4G22650</td>\n",
       "      <td id=\"T_b7446_row1_col2\" class=\"data row1 col2\" >0.825572</td>\n",
       "    </tr>\n",
       "    <tr>\n",
       "      <th id=\"T_b7446_level0_row2\" class=\"row_heading level0 row2\" >2</th>\n",
       "      <td id=\"T_b7446_row2_col0\" class=\"data row2 col0\" >ATMG00710</td>\n",
       "      <td id=\"T_b7446_row2_col1\" class=\"data row2 col1\" >AT3G31460</td>\n",
       "      <td id=\"T_b7446_row2_col2\" class=\"data row2 col2\" >0.855061</td>\n",
       "    </tr>\n",
       "    <tr>\n",
       "      <th id=\"T_b7446_level0_row3\" class=\"row_heading level0 row3\" >3</th>\n",
       "      <td id=\"T_b7446_row3_col0\" class=\"data row3 col0\" >ATMG00710</td>\n",
       "      <td id=\"T_b7446_row3_col1\" class=\"data row3 col1\" >AT2G07698</td>\n",
       "      <td id=\"T_b7446_row3_col2\" class=\"data row3 col2\" >0.869021</td>\n",
       "    </tr>\n",
       "    <tr>\n",
       "      <th id=\"T_b7446_level0_row4\" class=\"row_heading level0 row4\" >4</th>\n",
       "      <td id=\"T_b7446_row4_col0\" class=\"data row4 col0\" >ATMG00840</td>\n",
       "      <td id=\"T_b7446_row4_col1\" class=\"data row4 col1\" >AT5G24810</td>\n",
       "      <td id=\"T_b7446_row4_col2\" class=\"data row4 col2\" >0.890208</td>\n",
       "    </tr>\n",
       "  </tbody>\n",
       "</table>\n"
      ],
      "text/plain": [
       "<pandas.io.formats.style.Styler at 0x7fd59fe58970>"
      ]
     },
     "execution_count": 37,
     "metadata": {},
     "output_type": "execute_result"
    }
   ],
   "source": [
    "pd.read_csv(\"Data/2_WGCNA_data/WGCNA_GSE10576_Fe/CytoscapeInput-edges-Fe_Anno.txt\", sep=\"\\t\").head().style.pipe(make_pretty)"
   ]
  },
  {
   "cell_type": "markdown",
   "metadata": {},
   "source": [
    "### Gene regulatory network file\n",
    "This is the output of GRE infrence experiment\n",
    "\n",
    "`Tab-separated values`\n",
    "\n",
    "1. 1<sup>st</sup> column TF.\n",
    "2. 2<sup>nd</sup> column Target.\n",
    "3. 3<sup>rd</sup> column is weight/importance."
   ]
  },
  {
   "cell_type": "code",
   "execution_count": 35,
   "metadata": {},
   "outputs": [
    {
     "data": {
      "text/html": [
       "<style type=\"text/css\">\n",
       "#T_ca882_row0_col2, #T_ca882_row1_col2, #T_ca882_row2_col2, #T_ca882_row3_col2, #T_ca882_row4_col2 {\n",
       "  background-color: #ffffd9;\n",
       "  color: #000000;\n",
       "}\n",
       "</style>\n",
       "<table id=\"T_ca882\">\n",
       "  <caption>Weather Conditions</caption>\n",
       "  <thead>\n",
       "    <tr>\n",
       "      <th class=\"blank level0\" >&nbsp;</th>\n",
       "      <th id=\"T_ca882_level0_col0\" class=\"col_heading level0 col0\" >TF</th>\n",
       "      <th id=\"T_ca882_level0_col1\" class=\"col_heading level0 col1\" >target</th>\n",
       "      <th id=\"T_ca882_level0_col2\" class=\"col_heading level0 col2\" >importance</th>\n",
       "    </tr>\n",
       "  </thead>\n",
       "  <tbody>\n",
       "    <tr>\n",
       "      <th id=\"T_ca882_level0_row0\" class=\"row_heading level0 row0\" >0</th>\n",
       "      <td id=\"T_ca882_row0_col0\" class=\"data row0 col0\" >AT1G74840</td>\n",
       "      <td id=\"T_ca882_row0_col1\" class=\"data row0 col1\" >AT2G18700</td>\n",
       "      <td id=\"T_ca882_row0_col2\" class=\"data row0 col2\" >0.007215</td>\n",
       "    </tr>\n",
       "    <tr>\n",
       "      <th id=\"T_ca882_level0_row1\" class=\"row_heading level0 row1\" >1</th>\n",
       "      <td id=\"T_ca882_row1_col0\" class=\"data row1 col0\" >AT3G10113</td>\n",
       "      <td id=\"T_ca882_row1_col1\" class=\"data row1 col1\" >AT1G53320</td>\n",
       "      <td id=\"T_ca882_row1_col2\" class=\"data row1 col2\" >0.007215</td>\n",
       "    </tr>\n",
       "    <tr>\n",
       "      <th id=\"T_ca882_level0_row2\" class=\"row_heading level0 row2\" >2</th>\n",
       "      <td id=\"T_ca882_row2_col0\" class=\"data row2 col0\" >AT5G47390</td>\n",
       "      <td id=\"T_ca882_row2_col1\" class=\"data row2 col1\" >AT2G38400</td>\n",
       "      <td id=\"T_ca882_row2_col2\" class=\"data row2 col2\" >0.007215</td>\n",
       "    </tr>\n",
       "    <tr>\n",
       "      <th id=\"T_ca882_level0_row3\" class=\"row_heading level0 row3\" >3</th>\n",
       "      <td id=\"T_ca882_row3_col0\" class=\"data row3 col0\" >AT5G51190</td>\n",
       "      <td id=\"T_ca882_row3_col1\" class=\"data row3 col1\" >AT4G24570</td>\n",
       "      <td id=\"T_ca882_row3_col2\" class=\"data row3 col2\" >0.007215</td>\n",
       "    </tr>\n",
       "    <tr>\n",
       "      <th id=\"T_ca882_level0_row4\" class=\"row_heading level0 row4\" >4</th>\n",
       "      <td id=\"T_ca882_row4_col0\" class=\"data row4 col0\" >AT5G47390</td>\n",
       "      <td id=\"T_ca882_row4_col1\" class=\"data row4 col1\" >AT4G30690</td>\n",
       "      <td id=\"T_ca882_row4_col2\" class=\"data row4 col2\" >0.007215</td>\n",
       "    </tr>\n",
       "  </tbody>\n",
       "</table>\n"
      ],
      "text/plain": [
       "<pandas.io.formats.style.Styler at 0x7fd59fbec280>"
      ]
     },
     "execution_count": 35,
     "metadata": {},
     "output_type": "execute_result"
    }
   ],
   "source": [
    "pd.read_csv(\"Data/3_GRN_data/GSE30166_Sulfur_regnet_small.tsv\", sep=\"\\t\").head().style.pipe(make_pretty)"
   ]
  },
  {
   "cell_type": "code",
   "execution_count": 27,
   "metadata": {},
   "outputs": [
    {
     "name": "stdout",
     "output_type": "stream",
     "text": [
      "-----\n",
      "pandas              1.4.3\n",
      "session_info        1.0.0\n",
      "-----\n",
      "IPython             8.4.0\n",
      "jupyter_client      7.3.4\n",
      "jupyter_core        4.10.0\n",
      "jupyterlab          3.4.3\n",
      "notebook            6.4.12\n",
      "-----\n",
      "Python 3.10.4 (main, Mar 31 2022, 08:41:55) [GCC 7.5.0]\n",
      "Linux-5.15.57.1-microsoft-standard-WSL2-x86_64-with-glibc2.31\n",
      "-----\n",
      "Session information updated at 2022-09-22 05:16\n"
     ]
    }
   ],
   "source": [
    "import session_info\n",
    "session_info.show(html=0)"
   ]
  }
 ],
 "metadata": {
  "kernelspec": {
   "display_name": "Python 3 (ipykernel)",
   "language": "python",
   "name": "python3"
  },
  "language_info": {
   "codemirror_mode": {
    "name": "ipython",
    "version": 3
   },
   "file_extension": ".py",
   "mimetype": "text/x-python",
   "name": "python",
   "nbconvert_exporter": "python",
   "pygments_lexer": "ipython3",
   "version": "3.10.4"
  },
  "widgets": {
   "application/vnd.jupyter.widget-state+json": {
    "state": {},
    "version_major": 2,
    "version_minor": 0
   }
  }
 },
 "nbformat": 4,
 "nbformat_minor": 4
}
