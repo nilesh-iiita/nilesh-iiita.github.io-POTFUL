{
 "cells": [
  {
   "cell_type": "markdown",
   "id": "bd0308de-2cd4-436e-b246-0bba5bf462fb",
   "metadata": {},
   "source": [
    "# Example 2 : Three samples\n",
    "pH vs Fe vs Fe"
   ]
  },
  {
   "cell_type": "code",
   "execution_count": 38,
   "id": "898ce02e-bddd-4d1f-8baa-cc465e5df87b",
   "metadata": {},
   "outputs": [
    {
     "name": "stdout",
     "output_type": "stream",
     "text": [
      "\u001b[0;6;31;40m POTFUL \u001b[0;5;30;0m\n",
      "\u001b[0;34;40m                                        \u001b[0m\n",
      "\u001b[0;34;40m                                        \u001b[0m\n",
      "\u001b[0;34;40m                                        \u001b[0m\n",
      "\u001b[0;34;40m                                        \u001b[0m\n",
      "\u001b[0;34;40m        \u001b[0;1;30;40mS\u001b[0;5;36;40mt\u001b[0;5;31;40mX\u001b[0;34;40m;\u001b[0;32;40m.  \u001b[0;1;30;40m@\u001b[0;5;36;40m:\u001b[0;5;30;40mX\u001b[0;31;40m;\u001b[0;34;40m.\u001b[0;32;40m     \u001b[0;34;40m               \u001b[0m\n",
      "\u001b[0;34;40m       :\u001b[0;5;33;40m \u001b[0;5;37;40m8\u001b[0;1;30;47m8\u001b[0;5;32;40mS\u001b[0;31;40m  ;\u001b[0;5;37;40mX8\u001b[0;1;30;47m8\u001b[0;5;30;40m@\u001b[0;32;40m   .\u001b[0;34;40m.\u001b[0;31;40m     \u001b[0;34;40m           \u001b[0m\n",
      "\u001b[0;34;40m      \u001b[0;32;40m \u001b[0;5;30;40m8\u001b[0;1;30;47m8\u001b[0;5;37;40m88\u001b[0;1;30;40mX\u001b[0;34;40m .\u001b[0;5;30;40mX\u001b[0;1;30;47m8\u001b[0;5;37;40m8X\u001b[0;32;40m;\u001b[0;34;40m.\u001b[0;31;40m \u001b[0;1;30;40m8\u001b[0;5;37;40mS\u001b[0;5;33;40m \u001b[0;1;30;40m@\u001b[0;31;40m   \u001b[0;34;40m            \u001b[0m\n",
      "\u001b[0;34;40m     \u001b[0;32;40m \u001b[0;31;40m \u001b[0;5;33;40m;\u001b[0;5;37;40m8\u001b[0;1;30;47m8\u001b[0;5;35;40m \u001b[0;34;40m:\u001b[0;31;40m.\u001b[0;34;40m.\u001b[0;5;33;40m \u001b[0;1;30;47m8\u001b[0;5;37;40m8\u001b[0;5;35;40m \u001b[0;34;40m:\u001b[0;31;40m.\u001b[0;32;40m:\u001b[0;5;35;40m \u001b[0;1;30;47mX8\u001b[0;5;30;40mX\u001b[0;31;40m    \u001b[0;34;40m           \u001b[0m\n",
      "\u001b[0;34;40m     \u001b[0;31;40m \u001b[0;34;40m.\u001b[0;5;35;40m;\u001b[0;5;37;40mSS\u001b[0;1;30;40m8\u001b[0;31;40m.\u001b[0;32;40m \u001b[0;1;30;40m8\u001b[0;5;37;40m8\u001b[0;1;30;47m8\u001b[0;5;37;40m8\u001b[0;1;30;40m@\u001b[0;31;40m .\u001b[0;5;30;40mX\u001b[0;1;30;47m8\u001b[0;5;37;40m8X\u001b[0;31;40mt\u001b[0;34;40m.\u001b[0;32;40m.\u001b[0;34;40m             \u001b[0m\n",
      "\u001b[0;34;40m    \u001b[0;31;40m  \u001b[0;32;40m  :\u001b[0;34;40m:\u001b[0;31;40m.\u001b[0;32;40m  \u001b[0;5;33;40m.\u001b[0;5;37;40m88\u001b[0;5;36;40m \u001b[0;31;40m:\u001b[0;32;40m.\u001b[0;34;40m.\u001b[0;5;35;40m \u001b[0;1;30;47m88\u001b[0;5;36;40m \u001b[0;32;40m.\u001b[0;34;40m.\u001b[0;32;40m \u001b[0;34;40m             \u001b[0m\n",
      "\u001b[0;34;40m    \u001b[0;32;40m    \u001b[0;31;40m.\u001b[0;32;40m.   \u001b[0;5;36;40m:\u001b[0;5;37;40m88\u001b[0;5;30;40mX\u001b[0;34;40m.\u001b[0;32;40m .\u001b[0;5;35;40m \u001b[0;5;37;40m8X\u001b[0;1;30;40m8\u001b[0;34;40m.\u001b[0;32;40m     \u001b[0;34;40m          \u001b[0m\n",
      "\u001b[0;34;40m    \u001b[0;32;40m     \u001b[0;34;40m \u001b[0;32;40m  \u001b[0;31;40m  :\u001b[0;34;40m;\u001b[0;32;40m.\u001b[0;31;40m  .\u001b[0;34;40m.\u001b[0;31;40m;\u001b[0;34;40m:\u001b[0;32;40m.      \u001b[0;34;40m  t\u001b[0;5;30;40m8\u001b[0;5;36;40m8%\u001b[0;1;30;46m8\u001b[0;5;36;40m \u001b[0;30;44m8\u001b[0;32;40m:\u001b[0m\n",
      "\u001b[0;34;40m    \u001b[0;32;40m     \u001b[0;34;40m \u001b[0;32;40m  \u001b[0;31;40m \u001b[0;34;40m \u001b[0;32;40m.\u001b[0;31;40m.\u001b[0;32;40m    ...\u001b[0;31;40m   \u001b[0;32;40m   \u001b[0;34;40m;\u001b[0;5;34;40mS\u001b[0;5;36;40mS\u001b[0;36;47m888\u001b[0;1;36;47mXX8\u001b[0;30;44m8\u001b[0;31;40m;\u001b[0m\n",
      "\u001b[0;34;40m ;\u001b[0;5;36;40mX%t\u001b[0;1;30;46m8\u001b[0;5;36;40m.\u001b[0;1;30;46m8\u001b[0;5;36;40m.\u001b[0;1;30;46m8\u001b[0;5;36;40m.\u001b[0;1;30;46m8\u001b[0;5;36;40m.\u001b[0;1;30;46m8\u001b[0;5;36;40m.\u001b[0;1;30;46m8\u001b[0;5;36;40m.\u001b[0;1;30;46m8\u001b[0;5;36;40m.\u001b[0;1;30;46m8\u001b[0;5;36;40m.\u001b[0;1;30;46m8\u001b[0;5;36;40m.\u001b[0;1;30;46m8\u001b[0;5;36;40m.\u001b[0;1;30;46m8\u001b[0;5;36;40m.\u001b[0;1;30;46m8\u001b[0;1;30;47m8\u001b[0;37;46m8\u001b[0;36;47m8\u001b[0;1;36;47m@8\u001b[0;1;34;47m8\u001b[0;36;47m8\u001b[0;5;34;44m8\u001b[0;5;35;40mX\u001b[0;34;40m8\u001b[0;31;40m;\u001b[0;32;40m.\u001b[0m\n",
      "\u001b[0;34;40m \u001b[0;5;30;40m8\u001b[0;36;47m8\u001b[0;1;36;47m8@\u001b[0;1;34;47mX\u001b[0;1;36;47m8\u001b[0;36;47m@\u001b[0;1;36;47m@\u001b[0;1;34;47m@\u001b[0;1;36;47m@\u001b[0;36;47m@\u001b[0;1;36;47m@\u001b[0;1;34;47m@\u001b[0;1;36;47m@\u001b[0;36;47m@\u001b[0;1;36;47m@\u001b[0;1;34;47m@\u001b[0;1;36;47m@\u001b[0;36;47m@\u001b[0;1;36;47m@\u001b[0;1;34;47m@\u001b[0;1;36;47m@\u001b[0;36;47m@\u001b[0;1;36;47m@\u001b[0;1;34;47m@\u001b[0;1;36;47m@@\u001b[0;1;34;47m8\u001b[0;1;36;47m8\u001b[0;5;36;40mS\u001b[0;35;44mX\u001b[0;30;44m@\u001b[0;34;40m@t\u001b[0;32;40m;\u001b[0;34;40m.\u001b[0;32;40m..\u001b[0;34;40m \u001b[0m\n",
      "\u001b[0;34;40m @\u001b[0;36;47m8\u001b[0;1;34;47m@\u001b[0;1;36;47m8\u001b[0;1;30;44mt\u001b[0;34;40m888@8\u001b[0;30;44m8\u001b[0;34;40m@@8\u001b[0;30;44m8\u001b[0;34;40m8@8\u001b[0;30;44m8\u001b[0;34;40m8@8\u001b[0;30;44m8\u001b[0;34;40m8@\u001b[0;5;36;40m;\u001b[0;1;36;47m8\u001b[0;1;34;47m@\u001b[0;1;30;46m8\u001b[0;30;44m8\u001b[0;31;40m:\u001b[0;32;40m:\u001b[0;31;40m:..\u001b[0;34;40m    \u001b[0m\n",
      "\u001b[0;34;40m %\u001b[0;36;47m88\u001b[0;1;34;47m@\u001b[0;5;36;40m%\u001b[0;34;40m;\u001b[0;31;40m;:.:::.:::::::::::\u001b[0;34;40m%\u001b[0;1;30;47m8\u001b[0;1;34;47m8\u001b[0;1;36;47m8\u001b[0;5;35;40mX\u001b[0;34;40mt.\u001b[0;31;40m \u001b[0;32;40m.  \u001b[0;34;40m    \u001b[0m\n",
      "\u001b[0;34;40m .\u001b[0;1;30;44m8\u001b[0;36;47m8\u001b[0;1;36;47m8\u001b[0;36;47m@\u001b[0;5;36;40mt\u001b[0;1;30;44m@\u001b[0;32;40m;\u001b[0;34;40m;\u001b[0;32;40m:\u001b[0;34;40m;\u001b[0;32;40m:\u001b[0;34;40m;\u001b[0;32;40m;\u001b[0;34;40m;\u001b[0;32;40m;\u001b[0;34;40m;\u001b[0;32;40m:\u001b[0;34;40m;\u001b[0;32;40m;\u001b[0;34;40m;\u001b[0;32;40m;\u001b[0;34;40m%\u001b[0;5;36;40m8;\u001b[0;1;36;47m8\u001b[0;36;47m8\u001b[0;5;36;44mt\u001b[0;5;30;40m8\u001b[0;32;40m   \u001b[0;34;40m \u001b[0;32;40m  \u001b[0;34;40m    \u001b[0m\n",
      "\u001b[0;34;40m \u001b[0;32;40m \u001b[0;34;40m:\u001b[0;1;30;44m8\u001b[0;36;47m8\u001b[0;1;36;47m@\u001b[0;1;34;47m8\u001b[0;1;36;47m@\u001b[0;36;47m8888888888888888@\u001b[0;1;36;47m8\u001b[0;1;34;47m8\u001b[0;36;47m8\u001b[0;5;34;40m8\u001b[0;32;40m       \u001b[0;34;40m    \u001b[0m\n",
      "\u001b[0;34;40m \u001b[0;32;40m  \u001b[0;34;40m;\u001b[0;30;44mX\u001b[0;5;36;40mt\u001b[0;36;47m88\u001b[0;1;34;47m8\u001b[0;1;36;47m8\u001b[0;1;34;47m@\u001b[0;1;36;47m8\u001b[0;1;34;47m@\u001b[0;1;36;47m8\u001b[0;1;34;47m@\u001b[0;1;36;47m8\u001b[0;1;34;47m8\u001b[0;1;36;47m8\u001b[0;1;34;47m@\u001b[0;1;36;47m8\u001b[0;1;34;47m8\u001b[0;1;36;47m8\u001b[0;1;34;47m@\u001b[0;1;36;47m8\u001b[0;1;34;47m8\u001b[0;37;46m8\u001b[0;1;30;44m8\u001b[0;34;40m8\u001b[0;32;40m.        \u001b[0;34;40m   \u001b[0m\n",
      "\u001b[0;34;40m \u001b[0;32;40m  \u001b[0;31;40m.\u001b[0;34;40m:%S88888888888888888S%;\u001b[0;31;40m:\u001b[0;32;40m.       \u001b[0;34;40m    \u001b[0m\n",
      "\u001b[0;34;40m \u001b[0;32;40m   \u001b[0;31;40m  \u001b[0;34;40m \u001b[0;31;40m..\u001b[0;32;40m:\u001b[0;31;40m;\u001b[0;32;40m;\u001b[0;31;40m;\u001b[0;32;40m;\u001b[0;31;40mt\u001b[0;32;40m;\u001b[0;31;40mt\u001b[0;32;40m;\u001b[0;31;40mt\u001b[0;32;40m;\u001b[0;31;40mt\u001b[0;32;40m;\u001b[0;31;40m;:...\u001b[0;32;40m.\u001b[0;31;40m \u001b[0;32;40m        \u001b[0;34;40m   \u001b[0m\n",
      "\u001b[0;34;40m \u001b[0;32;40m  \u001b[0;31;40m   \u001b[0;34;40m  \u001b[0;31;40m.\u001b[0;32;40m.\u001b[0;31;40m.\u001b[0;34;40m.\u001b[0;31;40m.\u001b[0;34;40m.\u001b[0;32;40m.\u001b[0;31;40m.\u001b[0;34;40m.\u001b[0;31;40m.\u001b[0;32;40m.\u001b[0;31;40m.\u001b[0;32;40m.\u001b[0;31;40m.\u001b[0;32;40m..\u001b[0;34;40m \u001b[0;32;40m   \u001b[0;31;40m \u001b[0;32;40m        \u001b[0;34;40m   \u001b[0m\n",
      "\u001b[0;34;40m  \u001b[0;32;40m \u001b[0;31;40m   \u001b[0;34;40m     \u001b[0;32;40m .\u001b[0;31;40m  \u001b[0;34;40m \u001b[0;32;40m  \u001b[0;34;40m  .    \u001b[0;32;40m             \u001b[0;34;40m  \u001b[0m\n"
     ]
    }
   ],
   "source": [
    "import sys\n",
    "# caution: path[0] is reserved for script path (or '' in REPL)\n",
    "sys.path.insert(1, '.')\n",
    "\n",
    "from POTFUL import POTFUL\n",
    "POT = POTFUL()"
   ]
  },
  {
   "cell_type": "markdown",
   "id": "7b5f91e9-4ad6-4dbe-aad5-e19b6a420fd9",
   "metadata": {},
   "source": [
    "## LOAD Auxiliary Files"
   ]
  },
  {
   "cell_type": "code",
   "execution_count": 39,
   "id": "411c2a97-1c1c-4f86-aa80-784d443e5d30",
   "metadata": {},
   "outputs": [
    {
     "name": "stdout",
     "output_type": "stream",
     "text": [
      "{'TF_Family': 'Auxiliary_File/Arabidopsis_TF and family.csv',\n",
      " 'TF_Targets': 'Auxiliary_File/masterTF-target.txt',\n",
      " 'WGCNA_COLOR_MAP': 'Auxiliary_File/WGCNA_COLOR_MAP.csv'}\n",
      "🍲Auxiliary File None\n",
      "{'TF_Family': 'Auxiliary_File/Arabidopsis_TF and family.csv',\n",
      " 'TF_Targets': 'Auxiliary_File/masterTF-target.txt',\n",
      " 'WGCNA_COLOR_MAP': 'Auxiliary_File/WGCNA_COLOR_MAP.csv'}\n"
     ]
    }
   ],
   "source": [
    "POT.Load_Auxiliary_Files(WGCNA_COLOR_MAP=\"Auxiliary_File/WGCNA_COLOR_MAP.csv\", \n",
    "                         TF_Targets=\"Auxiliary_File/masterTF-target.txt\", \n",
    "                         TF_Family=\"Auxiliary_File/Arabidopsis_TF and family.csv\")"
   ]
  },
  {
   "cell_type": "markdown",
   "id": "b477937c-66ef-4367-a6ee-4ad1daad70a8",
   "metadata": {},
   "source": [
    "## LOAD 'Fe' Files"
   ]
  },
  {
   "cell_type": "code",
   "execution_count": 40,
   "id": "5fdc48e1-e5e0-4f37-97a3-12d677aa1a59",
   "metadata": {},
   "outputs": [
    {
     "name": "stdout",
     "output_type": "stream",
     "text": [
      "/Users/nileshkr/Desktop/2022_Fall/Frontires_new_data/POTFUL_Demo/POTFUL_Tutorial\n"
     ]
    }
   ],
   "source": [
    "!pwd"
   ]
  },
  {
   "cell_type": "code",
   "execution_count": 41,
   "id": "64192c1c-c670-460f-81d7-aadc466c8c89",
   "metadata": {},
   "outputs": [
    {
     "name": "stdout",
     "output_type": "stream",
     "text": [
      "Fe\n",
      "🍲Sample Fe\n",
      "Data/3_GRN_data/GSE10576_Fe_arboreto_regnet_small.tsv\n",
      "defaultdict(<class 'dict'>,\n",
      "            {'Fe': {'GRN': 'Data/3_GRN_data/GSE10576_Fe_arboreto_regnet_small.tsv',\n",
      "                    'WGCNA': {'EDGE': 'Data/2_WGCNA_Data/WGCNA_GSE10576_Fe/CytoscapeInput-edges-Fe_Anno.txt',\n",
      "                              'NODE': 'Data/2_WGCNA_Data/WGCNA_GSE10576_Fe/CytoscapeInput-nodes-Fe_Anno.txt'}}})\n",
      "🍲 Files None\n",
      "defaultdict(<class 'dict'>,\n",
      "            {'Fe': {'GRN': 'Data/3_GRN_data/GSE10576_Fe_arboreto_regnet_small.tsv',\n",
      "                    'WGCNA': {'EDGE': 'Data/2_WGCNA_Data/WGCNA_GSE10576_Fe/CytoscapeInput-edges-Fe_Anno.txt',\n",
      "                              'NODE': 'Data/2_WGCNA_Data/WGCNA_GSE10576_Fe/CytoscapeInput-nodes-Fe_Anno.txt'}}})\n"
     ]
    }
   ],
   "source": [
    "POT.Load_Files(Sample_name=\"Fe\",\n",
    "               NODE_File=\"Data/2_WGCNA_Data/WGCNA_GSE10576_Fe/CytoscapeInput-nodes-Fe_Anno.txt\",\n",
    "               EDGE_File=\"Data/2_WGCNA_Data/WGCNA_GSE10576_Fe/CytoscapeInput-edges-Fe_Anno.txt\",\n",
    "               GRN_File=\"Data/3_GRN_data/GSE10576_Fe_arboreto_regnet_small.tsv\")"
   ]
  },
  {
   "cell_type": "markdown",
   "id": "dbc0a0df-756c-4af2-bc79-d0e08cebb357",
   "metadata": {},
   "source": [
    "## LOAD 'pH' Files"
   ]
  },
  {
   "cell_type": "code",
   "execution_count": 42,
   "id": "09dc6272-3bd3-499b-8f33-7d97d15af48c",
   "metadata": {},
   "outputs": [
    {
     "name": "stdout",
     "output_type": "stream",
     "text": [
      "pH\n",
      "🍲Sample pH\n",
      "Data/3_GRN_data/GSE30166_pH_regnet_small.tsv\n",
      "defaultdict(<class 'dict'>,\n",
      "            {'Fe': {'GRN': 'Data/3_GRN_data/GSE10576_Fe_arboreto_regnet_small.tsv',\n",
      "                    'WGCNA': {'EDGE': 'Data/2_WGCNA_Data/WGCNA_GSE10576_Fe/CytoscapeInput-edges-Fe_Anno.txt',\n",
      "                              'NODE': 'Data/2_WGCNA_Data/WGCNA_GSE10576_Fe/CytoscapeInput-nodes-Fe_Anno.txt'}},\n",
      "             'pH': {'GRN': 'Data/3_GRN_data/GSE30166_pH_regnet_small.tsv',\n",
      "                    'WGCNA': {'EDGE': 'Data/2_WGCNA_Data/WGCNA_GSE30166_pH/CytoscapeInput-edges-pH_Anno.txt',\n",
      "                              'NODE': 'Data/2_WGCNA_Data/WGCNA_GSE30166_pH/CytoscapeInput-nodes-pH_Anno.txt'}}})\n",
      "🍲 Files None\n",
      "defaultdict(<class 'dict'>,\n",
      "            {'Fe': {'GRN': 'Data/3_GRN_data/GSE10576_Fe_arboreto_regnet_small.tsv',\n",
      "                    'WGCNA': {'EDGE': 'Data/2_WGCNA_Data/WGCNA_GSE10576_Fe/CytoscapeInput-edges-Fe_Anno.txt',\n",
      "                              'NODE': 'Data/2_WGCNA_Data/WGCNA_GSE10576_Fe/CytoscapeInput-nodes-Fe_Anno.txt'}},\n",
      "             'pH': {'GRN': 'Data/3_GRN_data/GSE30166_pH_regnet_small.tsv',\n",
      "                    'WGCNA': {'EDGE': 'Data/2_WGCNA_Data/WGCNA_GSE30166_pH/CytoscapeInput-edges-pH_Anno.txt',\n",
      "                              'NODE': 'Data/2_WGCNA_Data/WGCNA_GSE30166_pH/CytoscapeInput-nodes-pH_Anno.txt'}}})\n"
     ]
    }
   ],
   "source": [
    "POT.Load_Files(Sample_name=\"pH\",\n",
    "               NODE_File=\"Data/2_WGCNA_Data/WGCNA_GSE30166_pH/CytoscapeInput-nodes-pH_Anno.txt\",\n",
    "               EDGE_File=\"Data/2_WGCNA_Data/WGCNA_GSE30166_pH/CytoscapeInput-edges-pH_Anno.txt\",\n",
    "               GRN_File=\"Data/3_GRN_data/GSE30166_pH_regnet_small.tsv\")"
   ]
  },
  {
   "cell_type": "markdown",
   "id": "d3ac665b-cade-47b4-9003-b29d3100dfbc",
   "metadata": {},
   "source": [
    "## LOAD 'Sulfur' Files"
   ]
  },
  {
   "cell_type": "code",
   "execution_count": 43,
   "id": "44781e74-61e7-45d7-a1ce-40b7a59d3785",
   "metadata": {},
   "outputs": [
    {
     "name": "stdout",
     "output_type": "stream",
     "text": [
      "Sulfur\n",
      "🍲Sample Sulfur\n",
      "Data/3_GRN_data/GSE30166_Sulfur_regnet_small.tsv\n",
      "defaultdict(<class 'dict'>,\n",
      "            {'Fe': {'GRN': 'Data/3_GRN_data/GSE10576_Fe_arboreto_regnet_small.tsv',\n",
      "                    'WGCNA': {'EDGE': 'Data/2_WGCNA_Data/WGCNA_GSE10576_Fe/CytoscapeInput-edges-Fe_Anno.txt',\n",
      "                              'NODE': 'Data/2_WGCNA_Data/WGCNA_GSE10576_Fe/CytoscapeInput-nodes-Fe_Anno.txt'}},\n",
      "             'Sulfur': {'GRN': 'Data/3_GRN_data/GSE30166_Sulfur_regnet_small.tsv',\n",
      "                        'WGCNA': {'EDGE': 'Data/2_WGCNA_Data/WGCNA_GSE30166_S/CytoscapeInput-edges-sulfur_Anno.txt',\n",
      "                                  'NODE': 'Data/2_WGCNA_Data/WGCNA_GSE30166_S/CytoscapeInput-nodes-sulfur_Anno.txt'}},\n",
      "             'pH': {'GRN': 'Data/3_GRN_data/GSE30166_pH_regnet_small.tsv',\n",
      "                    'WGCNA': {'EDGE': 'Data/2_WGCNA_Data/WGCNA_GSE30166_pH/CytoscapeInput-edges-pH_Anno.txt',\n",
      "                              'NODE': 'Data/2_WGCNA_Data/WGCNA_GSE30166_pH/CytoscapeInput-nodes-pH_Anno.txt'}}})\n",
      "🍲 Files None\n",
      "defaultdict(<class 'dict'>,\n",
      "            {'Fe': {'GRN': 'Data/3_GRN_data/GSE10576_Fe_arboreto_regnet_small.tsv',\n",
      "                    'WGCNA': {'EDGE': 'Data/2_WGCNA_Data/WGCNA_GSE10576_Fe/CytoscapeInput-edges-Fe_Anno.txt',\n",
      "                              'NODE': 'Data/2_WGCNA_Data/WGCNA_GSE10576_Fe/CytoscapeInput-nodes-Fe_Anno.txt'}},\n",
      "             'Sulfur': {'GRN': 'Data/3_GRN_data/GSE30166_Sulfur_regnet_small.tsv',\n",
      "                        'WGCNA': {'EDGE': 'Data/2_WGCNA_Data/WGCNA_GSE30166_S/CytoscapeInput-edges-sulfur_Anno.txt',\n",
      "                                  'NODE': 'Data/2_WGCNA_Data/WGCNA_GSE30166_S/CytoscapeInput-nodes-sulfur_Anno.txt'}},\n",
      "             'pH': {'GRN': 'Data/3_GRN_data/GSE30166_pH_regnet_small.tsv',\n",
      "                    'WGCNA': {'EDGE': 'Data/2_WGCNA_Data/WGCNA_GSE30166_pH/CytoscapeInput-edges-pH_Anno.txt',\n",
      "                              'NODE': 'Data/2_WGCNA_Data/WGCNA_GSE30166_pH/CytoscapeInput-nodes-pH_Anno.txt'}}})\n"
     ]
    }
   ],
   "source": [
    "POT.Load_Files(Sample_name=\"Sulfur\",\n",
    "               NODE_File=\"Data/2_WGCNA_Data/WGCNA_GSE30166_S/CytoscapeInput-nodes-sulfur_Anno.txt\",\n",
    "               EDGE_File=\"Data/2_WGCNA_Data/WGCNA_GSE30166_S/CytoscapeInput-edges-sulfur_Anno.txt\",\n",
    "               GRN_File=\"Data/3_GRN_data/GSE30166_Sulfur_regnet_small.tsv\")"
   ]
  },
  {
   "cell_type": "markdown",
   "id": "27833f49-e7e4-4fd6-840b-9d107bdf678c",
   "metadata": {},
   "source": [
    "## Define Samples "
   ]
  },
  {
   "cell_type": "code",
   "execution_count": 44,
   "id": "b4998a2d-09b1-4127-8d32-ddbb52670e75",
   "metadata": {},
   "outputs": [
    {
     "name": "stdout",
     "output_type": "stream",
     "text": [
      "0 Fe\n",
      "1 pH\n",
      "2 Sulfur\n"
     ]
    }
   ],
   "source": [
    "Samples = POT.Samples\n",
    "for i in range(len(Samples)):\n",
    "    print(i, Samples[i])"
   ]
  },
  {
   "cell_type": "markdown",
   "id": "0c8ce7a3-5614-44ad-9f58-21d0444d8534",
   "metadata": {},
   "source": [
    "## Create GMT file for both samples for enrichment analysis"
   ]
  },
  {
   "cell_type": "code",
   "execution_count": 45,
   "id": "1800f499-ca67-4725-af72-2e6649981055",
   "metadata": {},
   "outputs": [
    {
     "name": "stdout",
     "output_type": "stream",
     "text": [
      "GMT_base/POTFUL-Fe.gmt 5850\n",
      "GMT_base/POTFUL-pH.gmt 2285\n",
      "GMT_base/POTFUL-Sulfur.gmt 8751\n"
     ]
    }
   ],
   "source": [
    "POT.WGCNA_Bucket_GMT()"
   ]
  },
  {
   "cell_type": "code",
   "execution_count": 46,
   "id": "da9ed1d9-87f9-4709-9c81-8c2577ce8ff6",
   "metadata": {},
   "outputs": [
    {
     "name": "stdout",
     "output_type": "stream",
     "text": [
      "GMT_base/POTFUL-Fe.gmt\n",
      "GMT_base/POTFUL-pH.gmt\n",
      "GMT_base/POTFUL-Sulfur.gmt\n"
     ]
    }
   ],
   "source": [
    "for i in range(len(Samples)):\n",
    "    print((POT.File[Samples[i]]['GMT']))\n"
   ]
  },
  {
   "cell_type": "markdown",
   "id": "f983a9e6-13e0-4d38-bcf7-ac70963c5ad9",
   "metadata": {},
   "source": [
    "## Plot WGCNA module barplot (Fe)"
   ]
  },
  {
   "cell_type": "code",
   "execution_count": 47,
   "id": "d4b470da-e120-4bfd-9c7e-f059c60285de",
   "metadata": {},
   "outputs": [],
   "source": [
    "# POT.Plots[Samples[0]]['WGCNA_BarPlot']"
   ]
  },
  {
   "cell_type": "markdown",
   "id": "332eee45-e489-4526-ae60-433d96514d05",
   "metadata": {},
   "source": [
    "![](POTFUL_OUT/BP_Fe.png)"
   ]
  },
  {
   "cell_type": "markdown",
   "id": "0555e8eb-efb5-4fea-a8a9-165603747318",
   "metadata": {},
   "source": [
    "## Plot WGCNA module barplot (pH)"
   ]
  },
  {
   "cell_type": "code",
   "execution_count": 48,
   "id": "f5e60893-7e06-44c1-b642-5dad377b1589",
   "metadata": {},
   "outputs": [],
   "source": [
    "# POT.Plots[Samples[1]]['WGCNA_BarPlot']"
   ]
  },
  {
   "cell_type": "markdown",
   "id": "c3a47e99-bf12-44a3-b77c-6750976dbab0",
   "metadata": {},
   "source": [
    "![](POTFUL_OUT/BP_pH.png)"
   ]
  },
  {
   "cell_type": "markdown",
   "id": "a7a49169-2ee2-48aa-a0b4-0f411dc3fb67",
   "metadata": {},
   "source": [
    "## Plot WGCNA module barplot (Sulfur)"
   ]
  },
  {
   "cell_type": "code",
   "execution_count": 49,
   "id": "f45f6007-5b72-4617-974a-971bd9fcdfcd",
   "metadata": {},
   "outputs": [],
   "source": [
    "# POT.Plots[Samples[2]]['WGCNA_BarPlot']"
   ]
  },
  {
   "cell_type": "markdown",
   "id": "eb825fcb-aa43-4236-a8a8-5037c1d3bbfc",
   "metadata": {},
   "source": [
    "![](POTFUL_OUT/BP_S.png)"
   ]
  },
  {
   "cell_type": "markdown",
   "id": "e156e418-88ef-4d7d-9320-0675e57df82b",
   "metadata": {},
   "source": [
    "## WGCNA module wise enrichment Fe vs pH"
   ]
  },
  {
   "cell_type": "code",
   "execution_count": 50,
   "id": "c60eb827-e3e6-46d7-9f46-17f6eb621bc6",
   "metadata": {},
   "outputs": [
    {
     "name": "stdout",
     "output_type": "stream",
     "text": [
      "Fe pH\n",
      "\n",
      "Total Number of genes in 7045\n",
      "  Gene_set (pH)  Term (Fe)    Overlap       P-value  Adjusted P-value  \\\n",
      "7          brown  turquoise  242/2168  1.300397e-14      1.170358e-13   \n",
      "0           blue       blue  128/2086  9.973270e-05      4.986635e-04   \n",
      "0         purple       blue   51/2086  7.429430e-06      1.485886e-05   \n",
      "1         yellow       blue  205/2086  7.088378e-33      4.253027e-32   \n",
      "2          black  turquoise   66/2168  1.151070e-04      3.453210e-04   \n",
      "\n",
      "   Odds Ratio Significance                                              Genes  \n",
      "7    1.923962          ***  267617_at;262624_at;264148_at;262099_s_at;2662...  \n",
      "0    1.531016          ***  253855_at;251713_at;247477_at;245176_at;261049...  \n",
      "0    2.424015          ***  256983_at;248526_at;251483_at;259678_at;260417...  \n",
      "1    3.552455          ***  254056_at;261480_at;265102_at;263876_at;248727...  \n",
      "2    1.881449          ***  253453_at;247407_at;248978_at;250832_at;253203...  \n"
     ]
    }
   ],
   "source": [
    "POT.WGCNA_Module_Enrichment(Samples[0], Samples[1])\n",
    "\n",
    "print(POT.Data[\"Enrichment_Dotplot\"])\n",
    "# POT.Plots[\"Enrichment_Dotplot\"]"
   ]
  },
  {
   "cell_type": "markdown",
   "id": "c5559850-e492-441a-89dc-c63a495a34d8",
   "metadata": {},
   "source": [
    "!['Enrichment_pH_S'](POTFUL_OUT/Fe__pHEnri_dot.png)"
   ]
  },
  {
   "cell_type": "markdown",
   "id": "d342fa62-a65a-43b2-98d0-42f58c13b3e7",
   "metadata": {},
   "source": [
    "## WGCNA module wise enrichment Fe vs Sulfur\n"
   ]
  },
  {
   "cell_type": "code",
   "execution_count": 51,
   "id": "d6c27f58-b414-4b9d-9fb4-d5d5c8ef4c56",
   "metadata": {},
   "outputs": [
    {
     "name": "stdout",
     "output_type": "stream",
     "text": [
      "Fe Sulfur\n",
      "\n",
      "Total Number of genes in 11778\n"
     ]
    }
   ],
   "source": [
    "POT.WGCNA_Module_Enrichment(Samples[0], Samples[2])\n"
   ]
  },
  {
   "cell_type": "markdown",
   "id": "89f99227-f0e4-495e-8e85-39b4a4be0670",
   "metadata": {},
   "source": [
    "!['Enrichment_pH_S'](POTFUL_OUT/Fe__SulfurEnri_dot.png)"
   ]
  },
  {
   "cell_type": "markdown",
   "id": "95fadf0d-e026-4386-842a-d7a4a2891524",
   "metadata": {},
   "source": [
    "## WGCNA module wise enrichment pH vs Sulfur"
   ]
  },
  {
   "cell_type": "markdown",
   "id": "b8cbb6f9-53d7-49ce-9161-ac31459e93c1",
   "metadata": {},
   "source": [
    "!['Enrichment_pH_S'](POTFUL_OUT/pH__SulfurEnri_dot.png)"
   ]
  },
  {
   "cell_type": "markdown",
   "id": "2ff46a29-bffd-4920-b8db-e789d8badfe2",
   "metadata": {},
   "source": [
    "## TF Network overlap"
   ]
  },
  {
   "cell_type": "code",
   "execution_count": 52,
   "id": "c08a3590-df3f-44df-ba69-4a3f42aad285",
   "metadata": {},
   "outputs": [
    {
     "name": "stdout",
     "output_type": "stream",
     "text": [
      "Fe Auxiliary_File/masterTF-target.txt Data/3_GRN_data/GSE10576_Fe_arboreto_regnet_small.tsv\n",
      "Total number of TFT pairs in Auxiliary_File/masterTF-target.txt :2357032\n",
      "Scaled Dataset Using Pandas\n",
      "Total number of TFT pairs in Data/3_GRN_data/GSE10576_Fe_arboreto_regnet_small.tsv :607\n",
      "Total number of common pairs:607\n",
      "Total number of common pairs:607\n",
      "pH Auxiliary_File/masterTF-target.txt Data/3_GRN_data/GSE30166_pH_regnet_small.tsv\n",
      "Total number of TFT pairs in Auxiliary_File/masterTF-target.txt :2357032\n",
      "Scaled Dataset Using Pandas\n",
      "Total number of TFT pairs in Data/3_GRN_data/GSE30166_pH_regnet_small.tsv :281\n",
      "Total number of common pairs:281\n",
      "Total number of common pairs:281\n",
      "Sulfur Auxiliary_File/masterTF-target.txt Data/3_GRN_data/GSE30166_Sulfur_regnet_small.tsv\n",
      "Total number of TFT pairs in Auxiliary_File/masterTF-target.txt :2357032\n",
      "Scaled Dataset Using Pandas\n",
      "Total number of TFT pairs in Data/3_GRN_data/GSE30166_Sulfur_regnet_small.tsv :232\n",
      "Total number of common pairs:232\n",
      "Total number of common pairs:232\n"
     ]
    }
   ],
   "source": [
    "POT.merge_TF_reg(Samples[0]) # Fe\n",
    "POT.merge_TF_reg(Samples[1]) # pH\n",
    "POT.merge_TF_reg(Samples[2]) # Sulfur"
   ]
  },
  {
   "cell_type": "markdown",
   "id": "4757aaa7-1609-4118-aeba-0763c44f8589",
   "metadata": {},
   "source": [
    "## TF Co-expression Network overlap"
   ]
  },
  {
   "cell_type": "code",
   "execution_count": 53,
   "id": "5d47a4c5-e935-44c9-b4f2-e281d4bcf4c3",
   "metadata": {},
   "outputs": [
    {
     "name": "stdout",
     "output_type": "stream",
     "text": [
      "Data/2_WGCNA_Data/WGCNA_GSE10576_Fe/CytoscapeInput-edges-Fe_Anno.txt\n",
      "Total number of coexpressed combo-pairs:114684\n",
      "Total number of common pairs:607\n",
      "Total number of common pairs:607\n",
      "POTFUL_OUT/Fe_Coexp_GRN.tsv DiGraph with 426 nodes and 607 edges\n",
      "Data/2_WGCNA_Data/WGCNA_GSE30166_pH/CytoscapeInput-edges-pH_Anno.txt\n",
      "Total number of coexpressed combo-pairs:49279\n",
      "Total number of common pairs:281\n",
      "Total number of common pairs:281\n",
      "POTFUL_OUT/pH_Coexp_GRN.tsv DiGraph with 201 nodes and 281 edges\n",
      "Data/2_WGCNA_Data/WGCNA_GSE30166_S/CytoscapeInput-edges-sulfur_Anno.txt\n",
      "Total number of coexpressed combo-pairs:64747\n",
      "Total number of common pairs:232\n",
      "Total number of common pairs:232\n",
      "POTFUL_OUT/Sulfur_Coexp_GRN.tsv DiGraph with 238 nodes and 232 edges\n"
     ]
    }
   ],
   "source": [
    "POT.merge_reg_coexp(Samples[0])\n",
    "POT.merge_reg_coexp(Samples[1])\n",
    "POT.merge_reg_coexp(Samples[2])"
   ]
  },
  {
   "cell_type": "markdown",
   "id": "fba0392a-a3f5-4aa0-9971-63d2bcab0b85",
   "metadata": {},
   "source": [
    "## Network centrality analysis"
   ]
  },
  {
   "cell_type": "code",
   "execution_count": 54,
   "id": "fec576fb-b698-4b2d-9e62-f0a4c1ce944e",
   "metadata": {},
   "outputs": [
    {
     "name": "stdout",
     "output_type": "stream",
     "text": [
      "DiGraph with 426 nodes and 607 edges\n",
      "DiGraph with 426 nodes and 607 edges\n",
      "Degree Dict True\n",
      "Betweenness Dict True\n",
      "Degree Dict True\n",
      "clust Dict True\n",
      "DiGraph with 201 nodes and 281 edges\n",
      "DiGraph with 201 nodes and 281 edges\n",
      "Degree Dict True\n",
      "Betweenness Dict True\n",
      "Degree Dict True\n",
      "clust Dict True\n",
      "DiGraph with 238 nodes and 232 edges\n",
      "DiGraph with 238 nodes and 232 edges\n",
      "Degree Dict True\n",
      "Betweenness Dict True\n",
      "Degree Dict True\n",
      "clust Dict True\n"
     ]
    }
   ],
   "source": [
    "POT.network_centrality(Samples[0])\n",
    "POT.network_centrality(Samples[1])\n",
    "POT.network_centrality(Samples[2])"
   ]
  },
  {
   "cell_type": "markdown",
   "id": "f91ea333-5ca5-4dde-ab98-94feab7c443a",
   "metadata": {},
   "source": [
    "### Save GraphML file"
   ]
  },
  {
   "cell_type": "code",
   "execution_count": 55,
   "id": "d92784a9-56c4-4df5-83a5-a9b10201349e",
   "metadata": {},
   "outputs": [
    {
     "name": "stdout",
     "output_type": "stream",
     "text": [
      "DiGraph with 426 nodes and 607 edges\n",
      "DiGraph with 201 nodes and 281 edges\n",
      "DiGraph with 238 nodes and 232 edges\n"
     ]
    }
   ],
   "source": [
    "POT.generate_graphml_out(Samples[0])\n",
    "POT.generate_graphml_out(Samples[1])\n",
    "POT.generate_graphml_out(Samples[2])"
   ]
  },
  {
   "cell_type": "markdown",
   "id": "7927ae29-ceec-49bd-a67c-a70b203e9684",
   "metadata": {},
   "source": [
    "## Generate network visualization html file"
   ]
  },
  {
   "cell_type": "code",
   "execution_count": 56,
   "id": "b4b7fe51-de27-476a-be8f-48b261b69c1e",
   "metadata": {},
   "outputs": [],
   "source": [
    "POT.Graph_vis(Samples[0])\n",
    "POT.Graph_vis(Samples[1])\n",
    "POT.Graph_vis(Samples[2])"
   ]
  },
  {
   "cell_type": "markdown",
   "id": "1f2ce74f-133a-4722-b044-b502915fb87b",
   "metadata": {},
   "source": [
    "### Display html graph file (pH)"
   ]
  },
  {
   "cell_type": "code",
   "execution_count": 57,
   "id": "7dda5158-01be-42d9-b70f-f760d52080ed",
   "metadata": {},
   "outputs": [],
   "source": [
    "# POT.Plots[Samples[0]]['Network_Viz'].show('Fe.html')"
   ]
  },
  {
   "cell_type": "markdown",
   "id": "b13b3a9a-48a0-46f9-9588-1bdcb1e51b95",
   "metadata": {},
   "source": [
    "![pH](POTFUL_OUT/Fe.png)"
   ]
  },
  {
   "cell_type": "code",
   "execution_count": 58,
   "id": "684fd573-0e0c-4ade-b3da-96bc766e7c8a",
   "metadata": {},
   "outputs": [],
   "source": [
    "# POT.Plots[Samples[1]]['Network_Viz'].show('pH.html')"
   ]
  },
  {
   "cell_type": "markdown",
   "id": "4ea09fa0-385b-43a5-8901-6bba2f1229f9",
   "metadata": {},
   "source": [
    "![pH](POTFUL_OUT/pH.png)"
   ]
  },
  {
   "cell_type": "markdown",
   "id": "afd0fc16-1b83-4d99-b41c-5d10692a0f69",
   "metadata": {},
   "source": [
    "### Display html graph file (pH)"
   ]
  },
  {
   "cell_type": "code",
   "execution_count": 59,
   "id": "3b7b3450-5cbb-44a8-801d-bce1dcd982f0",
   "metadata": {},
   "outputs": [],
   "source": [
    "# POT.Plots[Samples[2]]['Network_Viz'].show('Sulfur.html')"
   ]
  },
  {
   "cell_type": "markdown",
   "id": "f6ae564c-e602-40f3-8db1-dc10577189ce",
   "metadata": {},
   "source": [
    "![Sulfur](POTFUL_OUT/S.png)"
   ]
  },
  {
   "cell_type": "code",
   "execution_count": 60,
   "id": "82e65d81-0260-4335-a726-f468e8cb4a63",
   "metadata": {},
   "outputs": [
    {
     "name": "stdout",
     "output_type": "stream",
     "text": [
      "🍲 👌 There are 44 nodes overlapping between pair of Graphs\n",
      "{'AT2G30250', 'AT5G22270', 'AT2G43000', 'AT1G44130', 'AT5G18270', 'AT4G26200', 'AT5G57220', 'AT2G28570', 'AT1G59500', 'AT4G37370', 'AT3G59080', 'AT1G34180', 'AT1G33420', 'AT2G38860', 'AT3G25610', 'AT1G07000', 'AT3G08770', 'AT3G12820', 'AT2G47260', 'AT1G18570', 'AT1G03660', 'AT3G12720', 'AT5G12330', 'AT2G47000', 'AT1G13340', 'AT1G32870', 'AT5G60710', 'AT1G69790', 'AT3G44720', 'AT4G18880', 'AT5G35735', 'AT2G18690', 'AT1G26410', 'AT4G28460', 'AT1G26380', 'AT2G38470', 'AT5G26920', 'AT1G01060', 'AT2G38340', 'AT5G11210', 'AT5G42830', 'AT1G74590', 'AT5G05190', 'AT1G02520'}\n",
      "🍲 👌 There are 27 nodes overlapping between pair of Graphs\n",
      "{'AT4G19160', 'AT3G49530', 'AT4G23810', 'AT1G51700', 'AT5G38820', 'AT1G19000', 'AT4G30490', 'AT2G05940', 'AT2G02130', 'AT3G12820', 'AT4G22690', 'AT1G18570', 'AT3G47500', 'AT5G25810', 'AT1G19850', 'AT5G25830', 'AT4G24570', 'AT2G40340', 'AT2G45290', 'AT5G40590', 'AT1G02520', 'AT3G55980', 'AT2G38470', 'AT4G34590', 'AT3G11280', 'AT5G13910', 'AT2G44940'}\n",
      "🍲 👌 There are 16 nodes overlapping between pair of Graphs\n",
      "{'AT1G74840', 'AT2G38470', 'AT5G28770', 'AT1G28330', 'AT5G24490', 'AT3G23250', 'AT1G18570', 'AT2G15890', 'AT1G27730', 'AT3G12820', 'AT5G13080', 'AT1G80920', 'AT1G25400', 'AT4G37390', 'AT1G02520', 'AT5G25930'}\n"
     ]
    }
   ],
   "source": [
    "POT.netowork_overlap(Samples[0], Samples[1])\n",
    "POT.netowork_overlap(Samples[0], Samples[2])\n",
    "POT.netowork_overlap(Samples[1], Samples[2])"
   ]
  },
  {
   "cell_type": "markdown",
   "id": "2a020001-7992-4ed6-b131-3d45f9a60ecd",
   "metadata": {},
   "source": [
    "### Display html graph file (Fe and pH overlap)"
   ]
  },
  {
   "cell_type": "code",
   "execution_count": 61,
   "id": "9805d30e-bd71-4b8c-982f-ef013d62905c",
   "metadata": {},
   "outputs": [],
   "source": [
    "# POT.Plots['Fe_pH_Overlap_Network_Viz'].show('Fe_pH_Overlapping_network.html')"
   ]
  },
  {
   "cell_type": "markdown",
   "id": "9cf91f8c-e508-44ed-a36b-7cb55f54717f",
   "metadata": {},
   "source": [
    "![Fe_pH_Overlapping_network](POTFUL_OUT/Fe_pH_Overlapping_network.png)"
   ]
  },
  {
   "cell_type": "markdown",
   "id": "7ecb6ea0-9aa6-47d0-b05f-588cf263651a",
   "metadata": {},
   "source": [
    "### Display html graph file (Fe and Sulfur overlap)"
   ]
  },
  {
   "cell_type": "code",
   "execution_count": 62,
   "id": "1d545041-9040-43ba-b86d-64aeaaf32d35",
   "metadata": {},
   "outputs": [],
   "source": [
    "# POT.Plots['Fe_Sulfur_Overlap_Network_Viz'].show('Fe_Sulfur_Overlap_Network_Viz.html')"
   ]
  },
  {
   "cell_type": "markdown",
   "id": "01f2d7cd-8a60-4d89-9495-c21ca6af6fa8",
   "metadata": {},
   "source": [
    "![Fe_Sulfur_Overlap_Network_Viz](POTFUL_OUT/Fe_Sulfur_Overlap_Network_Viz.png)"
   ]
  },
  {
   "cell_type": "markdown",
   "id": "9b9fc573-32f1-4a36-9011-fb5575beefec",
   "metadata": {},
   "source": [
    "### Display html graph file (pH and Sulfur overlap)"
   ]
  },
  {
   "cell_type": "code",
   "execution_count": 63,
   "id": "a11f949c-2763-4dfc-89da-76b307603e59",
   "metadata": {},
   "outputs": [],
   "source": [
    "# POT.Plots['Overlap_Network_Viz'].show('Overlap.html')"
   ]
  },
  {
   "cell_type": "markdown",
   "id": "0064ad1e-1cbd-4cca-bb74-ac214ae2c1d6",
   "metadata": {},
   "source": [
    "![pH_S](POTFUL_OUT/pH_S.png)"
   ]
  },
  {
   "cell_type": "markdown",
   "id": "0cb0408d-9516-486b-a9fe-4666513662bf",
   "metadata": {},
   "source": [
    "### List all plots"
   ]
  },
  {
   "cell_type": "code",
   "execution_count": 64,
   "id": "2e12aa0c-786d-440e-bf24-02221f228286",
   "metadata": {},
   "outputs": [
    {
     "data": {
      "text/plain": [
       "['Fe',\n",
       " 'pH',\n",
       " 'Sulfur',\n",
       " 'Enrichment_Dotplot',\n",
       " 'Fe_pH_Overlap_Network_Viz',\n",
       " 'Fe_Sulfur_Overlap_Network_Viz',\n",
       " 'pH_Sulfur_Overlap_Network_Viz']"
      ]
     },
     "execution_count": 64,
     "metadata": {},
     "output_type": "execute_result"
    }
   ],
   "source": [
    "list(POT.Plots)"
   ]
  },
  {
   "cell_type": "code",
   "execution_count": 65,
   "id": "308fb1e5-9385-4237-af88-a2a3e575626e",
   "metadata": {},
   "outputs": [],
   "source": [
    "### Print POT structure"
   ]
  },
  {
   "cell_type": "code",
   "execution_count": 66,
   "id": "dd17d82b-a122-463d-a37c-cc1c724c6b9b",
   "metadata": {},
   "outputs": [],
   "source": [
    "# dict(POT.Data)"
   ]
  },
  {
   "cell_type": "code",
   "execution_count": 67,
   "id": "6a365632-4a1a-442e-8a3a-679efd76ad18",
   "metadata": {},
   "outputs": [
    {
     "name": "stdout",
     "output_type": "stream",
     "text": [
      "-----\n",
      "POTFUL              0.1.0\n",
      "session_info        1.0.0\n",
      "-----\n",
      "IPython             8.5.0\n",
      "jupyter_client      7.3.5\n",
      "jupyter_core        4.11.1\n",
      "jupyterlab          3.4.7\n",
      "notebook            6.4.12\n",
      "-----\n",
      "Python 3.9.13 | packaged by conda-forge | (main, May 27 2022, 17:00:52) [Clang 13.0.1 ]\n",
      "macOS-12.6-x86_64-i386-64bit\n",
      "-----\n",
      "Session information updated at 2022-09-22 11:46\n"
     ]
    }
   ],
   "source": [
    "import session_info\n",
    "session_info.show(html=False)\n"
   ]
  }
 ],
 "metadata": {
  "kernelspec": {
   "display_name": "Python 3 (ipykernel)",
   "language": "python",
   "name": "python3"
  },
  "language_info": {
   "codemirror_mode": {
    "name": "ipython",
    "version": 3
   },
   "file_extension": ".py",
   "mimetype": "text/x-python",
   "name": "python",
   "nbconvert_exporter": "python",
   "pygments_lexer": "ipython3",
   "version": "3.9.13"
  }
 },
 "nbformat": 4,
 "nbformat_minor": 5
}
