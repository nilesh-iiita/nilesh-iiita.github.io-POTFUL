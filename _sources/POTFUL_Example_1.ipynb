{
 "cells": [
  {
   "cell_type": "markdown",
   "id": "bd0308de-2cd4-436e-b246-0bba5bf462fb",
   "metadata": {},
   "source": [
    "# Example 1: Two samples\n",
    "pH vs Fe"
   ]
  },
  {
   "cell_type": "code",
   "execution_count": 25,
   "id": "898ce02e-bddd-4d1f-8baa-cc465e5df87b",
   "metadata": {},
   "outputs": [
    {
     "name": "stdout",
     "output_type": "stream",
     "text": [
      "\u001b[0;6;31;40m POTFUL \u001b[0;5;30;0m\n",
      "\u001b[0;34;40m                                        \u001b[0m\n",
      "\u001b[0;34;40m                                        \u001b[0m\n",
      "\u001b[0;34;40m                                        \u001b[0m\n",
      "\u001b[0;34;40m                                        \u001b[0m\n",
      "\u001b[0;34;40m        \u001b[0;1;30;40mS\u001b[0;5;36;40mt\u001b[0;5;31;40mX\u001b[0;34;40m;\u001b[0;32;40m.  \u001b[0;1;30;40m@\u001b[0;5;36;40m:\u001b[0;5;30;40mX\u001b[0;31;40m;\u001b[0;34;40m.\u001b[0;32;40m     \u001b[0;34;40m               \u001b[0m\n",
      "\u001b[0;34;40m       :\u001b[0;5;33;40m \u001b[0;5;37;40m8\u001b[0;1;30;47m8\u001b[0;5;32;40mS\u001b[0;31;40m  ;\u001b[0;5;37;40mX8\u001b[0;1;30;47m8\u001b[0;5;30;40m@\u001b[0;32;40m   .\u001b[0;34;40m.\u001b[0;31;40m     \u001b[0;34;40m           \u001b[0m\n",
      "\u001b[0;34;40m      \u001b[0;32;40m \u001b[0;5;30;40m8\u001b[0;1;30;47m8\u001b[0;5;37;40m88\u001b[0;1;30;40mX\u001b[0;34;40m .\u001b[0;5;30;40mX\u001b[0;1;30;47m8\u001b[0;5;37;40m8X\u001b[0;32;40m;\u001b[0;34;40m.\u001b[0;31;40m \u001b[0;1;30;40m8\u001b[0;5;37;40mS\u001b[0;5;33;40m \u001b[0;1;30;40m@\u001b[0;31;40m   \u001b[0;34;40m            \u001b[0m\n",
      "\u001b[0;34;40m     \u001b[0;32;40m \u001b[0;31;40m \u001b[0;5;33;40m;\u001b[0;5;37;40m8\u001b[0;1;30;47m8\u001b[0;5;35;40m \u001b[0;34;40m:\u001b[0;31;40m.\u001b[0;34;40m.\u001b[0;5;33;40m \u001b[0;1;30;47m8\u001b[0;5;37;40m8\u001b[0;5;35;40m \u001b[0;34;40m:\u001b[0;31;40m.\u001b[0;32;40m:\u001b[0;5;35;40m \u001b[0;1;30;47mX8\u001b[0;5;30;40mX\u001b[0;31;40m    \u001b[0;34;40m           \u001b[0m\n",
      "\u001b[0;34;40m     \u001b[0;31;40m \u001b[0;34;40m.\u001b[0;5;35;40m;\u001b[0;5;37;40mSS\u001b[0;1;30;40m8\u001b[0;31;40m.\u001b[0;32;40m \u001b[0;1;30;40m8\u001b[0;5;37;40m8\u001b[0;1;30;47m8\u001b[0;5;37;40m8\u001b[0;1;30;40m@\u001b[0;31;40m .\u001b[0;5;30;40mX\u001b[0;1;30;47m8\u001b[0;5;37;40m8X\u001b[0;31;40mt\u001b[0;34;40m.\u001b[0;32;40m.\u001b[0;34;40m             \u001b[0m\n",
      "\u001b[0;34;40m    \u001b[0;31;40m  \u001b[0;32;40m  :\u001b[0;34;40m:\u001b[0;31;40m.\u001b[0;32;40m  \u001b[0;5;33;40m.\u001b[0;5;37;40m88\u001b[0;5;36;40m \u001b[0;31;40m:\u001b[0;32;40m.\u001b[0;34;40m.\u001b[0;5;35;40m \u001b[0;1;30;47m88\u001b[0;5;36;40m \u001b[0;32;40m.\u001b[0;34;40m.\u001b[0;32;40m \u001b[0;34;40m             \u001b[0m\n",
      "\u001b[0;34;40m    \u001b[0;32;40m    \u001b[0;31;40m.\u001b[0;32;40m.   \u001b[0;5;36;40m:\u001b[0;5;37;40m88\u001b[0;5;30;40mX\u001b[0;34;40m.\u001b[0;32;40m .\u001b[0;5;35;40m \u001b[0;5;37;40m8X\u001b[0;1;30;40m8\u001b[0;34;40m.\u001b[0;32;40m     \u001b[0;34;40m          \u001b[0m\n",
      "\u001b[0;34;40m    \u001b[0;32;40m     \u001b[0;34;40m \u001b[0;32;40m  \u001b[0;31;40m  :\u001b[0;34;40m;\u001b[0;32;40m.\u001b[0;31;40m  .\u001b[0;34;40m.\u001b[0;31;40m;\u001b[0;34;40m:\u001b[0;32;40m.      \u001b[0;34;40m  t\u001b[0;5;30;40m8\u001b[0;5;36;40m8%\u001b[0;1;30;46m8\u001b[0;5;36;40m \u001b[0;30;44m8\u001b[0;32;40m:\u001b[0m\n",
      "\u001b[0;34;40m    \u001b[0;32;40m     \u001b[0;34;40m \u001b[0;32;40m  \u001b[0;31;40m \u001b[0;34;40m \u001b[0;32;40m.\u001b[0;31;40m.\u001b[0;32;40m    ...\u001b[0;31;40m   \u001b[0;32;40m   \u001b[0;34;40m;\u001b[0;5;34;40mS\u001b[0;5;36;40mS\u001b[0;36;47m888\u001b[0;1;36;47mXX8\u001b[0;30;44m8\u001b[0;31;40m;\u001b[0m\n",
      "\u001b[0;34;40m ;\u001b[0;5;36;40mX%t\u001b[0;1;30;46m8\u001b[0;5;36;40m.\u001b[0;1;30;46m8\u001b[0;5;36;40m.\u001b[0;1;30;46m8\u001b[0;5;36;40m.\u001b[0;1;30;46m8\u001b[0;5;36;40m.\u001b[0;1;30;46m8\u001b[0;5;36;40m.\u001b[0;1;30;46m8\u001b[0;5;36;40m.\u001b[0;1;30;46m8\u001b[0;5;36;40m.\u001b[0;1;30;46m8\u001b[0;5;36;40m.\u001b[0;1;30;46m8\u001b[0;5;36;40m.\u001b[0;1;30;46m8\u001b[0;5;36;40m.\u001b[0;1;30;46m8\u001b[0;5;36;40m.\u001b[0;1;30;46m8\u001b[0;1;30;47m8\u001b[0;37;46m8\u001b[0;36;47m8\u001b[0;1;36;47m@8\u001b[0;1;34;47m8\u001b[0;36;47m8\u001b[0;5;34;44m8\u001b[0;5;35;40mX\u001b[0;34;40m8\u001b[0;31;40m;\u001b[0;32;40m.\u001b[0m\n",
      "\u001b[0;34;40m \u001b[0;5;30;40m8\u001b[0;36;47m8\u001b[0;1;36;47m8@\u001b[0;1;34;47mX\u001b[0;1;36;47m8\u001b[0;36;47m@\u001b[0;1;36;47m@\u001b[0;1;34;47m@\u001b[0;1;36;47m@\u001b[0;36;47m@\u001b[0;1;36;47m@\u001b[0;1;34;47m@\u001b[0;1;36;47m@\u001b[0;36;47m@\u001b[0;1;36;47m@\u001b[0;1;34;47m@\u001b[0;1;36;47m@\u001b[0;36;47m@\u001b[0;1;36;47m@\u001b[0;1;34;47m@\u001b[0;1;36;47m@\u001b[0;36;47m@\u001b[0;1;36;47m@\u001b[0;1;34;47m@\u001b[0;1;36;47m@@\u001b[0;1;34;47m8\u001b[0;1;36;47m8\u001b[0;5;36;40mS\u001b[0;35;44mX\u001b[0;30;44m@\u001b[0;34;40m@t\u001b[0;32;40m;\u001b[0;34;40m.\u001b[0;32;40m..\u001b[0;34;40m \u001b[0m\n",
      "\u001b[0;34;40m @\u001b[0;36;47m8\u001b[0;1;34;47m@\u001b[0;1;36;47m8\u001b[0;1;30;44mt\u001b[0;34;40m888@8\u001b[0;30;44m8\u001b[0;34;40m@@8\u001b[0;30;44m8\u001b[0;34;40m8@8\u001b[0;30;44m8\u001b[0;34;40m8@8\u001b[0;30;44m8\u001b[0;34;40m8@\u001b[0;5;36;40m;\u001b[0;1;36;47m8\u001b[0;1;34;47m@\u001b[0;1;30;46m8\u001b[0;30;44m8\u001b[0;31;40m:\u001b[0;32;40m:\u001b[0;31;40m:..\u001b[0;34;40m    \u001b[0m\n",
      "\u001b[0;34;40m %\u001b[0;36;47m88\u001b[0;1;34;47m@\u001b[0;5;36;40m%\u001b[0;34;40m;\u001b[0;31;40m;:.:::.:::::::::::\u001b[0;34;40m%\u001b[0;1;30;47m8\u001b[0;1;34;47m8\u001b[0;1;36;47m8\u001b[0;5;35;40mX\u001b[0;34;40mt.\u001b[0;31;40m \u001b[0;32;40m.  \u001b[0;34;40m    \u001b[0m\n",
      "\u001b[0;34;40m .\u001b[0;1;30;44m8\u001b[0;36;47m8\u001b[0;1;36;47m8\u001b[0;36;47m@\u001b[0;5;36;40mt\u001b[0;1;30;44m@\u001b[0;32;40m;\u001b[0;34;40m;\u001b[0;32;40m:\u001b[0;34;40m;\u001b[0;32;40m:\u001b[0;34;40m;\u001b[0;32;40m;\u001b[0;34;40m;\u001b[0;32;40m;\u001b[0;34;40m;\u001b[0;32;40m:\u001b[0;34;40m;\u001b[0;32;40m;\u001b[0;34;40m;\u001b[0;32;40m;\u001b[0;34;40m%\u001b[0;5;36;40m8;\u001b[0;1;36;47m8\u001b[0;36;47m8\u001b[0;5;36;44mt\u001b[0;5;30;40m8\u001b[0;32;40m   \u001b[0;34;40m \u001b[0;32;40m  \u001b[0;34;40m    \u001b[0m\n",
      "\u001b[0;34;40m \u001b[0;32;40m \u001b[0;34;40m:\u001b[0;1;30;44m8\u001b[0;36;47m8\u001b[0;1;36;47m@\u001b[0;1;34;47m8\u001b[0;1;36;47m@\u001b[0;36;47m8888888888888888@\u001b[0;1;36;47m8\u001b[0;1;34;47m8\u001b[0;36;47m8\u001b[0;5;34;40m8\u001b[0;32;40m       \u001b[0;34;40m    \u001b[0m\n",
      "\u001b[0;34;40m \u001b[0;32;40m  \u001b[0;34;40m;\u001b[0;30;44mX\u001b[0;5;36;40mt\u001b[0;36;47m88\u001b[0;1;34;47m8\u001b[0;1;36;47m8\u001b[0;1;34;47m@\u001b[0;1;36;47m8\u001b[0;1;34;47m@\u001b[0;1;36;47m8\u001b[0;1;34;47m@\u001b[0;1;36;47m8\u001b[0;1;34;47m8\u001b[0;1;36;47m8\u001b[0;1;34;47m@\u001b[0;1;36;47m8\u001b[0;1;34;47m8\u001b[0;1;36;47m8\u001b[0;1;34;47m@\u001b[0;1;36;47m8\u001b[0;1;34;47m8\u001b[0;37;46m8\u001b[0;1;30;44m8\u001b[0;34;40m8\u001b[0;32;40m.        \u001b[0;34;40m   \u001b[0m\n",
      "\u001b[0;34;40m \u001b[0;32;40m  \u001b[0;31;40m.\u001b[0;34;40m:%S88888888888888888S%;\u001b[0;31;40m:\u001b[0;32;40m.       \u001b[0;34;40m    \u001b[0m\n",
      "\u001b[0;34;40m \u001b[0;32;40m   \u001b[0;31;40m  \u001b[0;34;40m \u001b[0;31;40m..\u001b[0;32;40m:\u001b[0;31;40m;\u001b[0;32;40m;\u001b[0;31;40m;\u001b[0;32;40m;\u001b[0;31;40mt\u001b[0;32;40m;\u001b[0;31;40mt\u001b[0;32;40m;\u001b[0;31;40mt\u001b[0;32;40m;\u001b[0;31;40mt\u001b[0;32;40m;\u001b[0;31;40m;:...\u001b[0;32;40m.\u001b[0;31;40m \u001b[0;32;40m        \u001b[0;34;40m   \u001b[0m\n",
      "\u001b[0;34;40m \u001b[0;32;40m  \u001b[0;31;40m   \u001b[0;34;40m  \u001b[0;31;40m.\u001b[0;32;40m.\u001b[0;31;40m.\u001b[0;34;40m.\u001b[0;31;40m.\u001b[0;34;40m.\u001b[0;32;40m.\u001b[0;31;40m.\u001b[0;34;40m.\u001b[0;31;40m.\u001b[0;32;40m.\u001b[0;31;40m.\u001b[0;32;40m.\u001b[0;31;40m.\u001b[0;32;40m..\u001b[0;34;40m \u001b[0;32;40m   \u001b[0;31;40m \u001b[0;32;40m        \u001b[0;34;40m   \u001b[0m\n",
      "\u001b[0;34;40m  \u001b[0;32;40m \u001b[0;31;40m   \u001b[0;34;40m     \u001b[0;32;40m .\u001b[0;31;40m  \u001b[0;34;40m \u001b[0;32;40m  \u001b[0;34;40m  .    \u001b[0;32;40m             \u001b[0;34;40m  \u001b[0m\n"
     ]
    }
   ],
   "source": [
    "import sys\n",
    "# caution: path[0] is reserved for script path (or '' in REPL)\n",
    "sys.path.insert(1, '.')\n",
    "\n",
    "from POTFUL import POTFUL\n",
    "POT = POTFUL()"
   ]
  },
  {
   "cell_type": "markdown",
   "id": "7b5f91e9-4ad6-4dbe-aad5-e19b6a420fd9",
   "metadata": {},
   "source": [
    "## LOAD Auxiliary Files"
   ]
  },
  {
   "cell_type": "code",
   "execution_count": 26,
   "id": "411c2a97-1c1c-4f86-aa80-784d443e5d30",
   "metadata": {},
   "outputs": [
    {
     "name": "stdout",
     "output_type": "stream",
     "text": [
      "{'TF_Family': 'Auxiliary_File/Arabidopsis_TF and family.csv',\n",
      " 'TF_Targets': 'Auxiliary_File/masterTF-target.txt',\n",
      " 'WGCNA_COLOR_MAP': 'Auxiliary_File/WGCNA_COLOR_MAP.csv'}\n",
      "🍲Auxiliary File None\n",
      "{'TF_Family': 'Auxiliary_File/Arabidopsis_TF and family.csv',\n",
      " 'TF_Targets': 'Auxiliary_File/masterTF-target.txt',\n",
      " 'WGCNA_COLOR_MAP': 'Auxiliary_File/WGCNA_COLOR_MAP.csv'}\n"
     ]
    }
   ],
   "source": [
    "POT.Load_Auxiliary_Files(WGCNA_COLOR_MAP=\"Auxiliary_File/WGCNA_COLOR_MAP.csv\", \n",
    "                         TF_Targets=\"Auxiliary_File/masterTF-target.txt\", \n",
    "                         TF_Family=\"Auxiliary_File/Arabidopsis_TF and family.csv\")"
   ]
  },
  {
   "cell_type": "markdown",
   "id": "dbc0a0df-756c-4af2-bc79-d0e08cebb357",
   "metadata": {},
   "source": [
    "## LOAD 'pH' Files"
   ]
  },
  {
   "cell_type": "code",
   "execution_count": 27,
   "id": "09dc6272-3bd3-499b-8f33-7d97d15af48c",
   "metadata": {},
   "outputs": [
    {
     "name": "stdout",
     "output_type": "stream",
     "text": [
      "pH\n",
      "🍲Sample pH\n",
      "Data/3_GRN_data/GSE30166_pH_regnet_small.tsv\n",
      "defaultdict(<class 'dict'>,\n",
      "            {'pH': {'GRN': 'Data/3_GRN_data/GSE30166_pH_regnet_small.tsv',\n",
      "                    'WGCNA': {'EDGE': 'Data/2_WGCNA_Data/WGCNA_GSE30166_pH/CytoscapeInput-edges-pH_Anno.txt',\n",
      "                              'NODE': 'Data/2_WGCNA_Data/WGCNA_GSE30166_pH/CytoscapeInput-nodes-pH_Anno.txt'}}})\n",
      "🍲 Files None\n",
      "defaultdict(<class 'dict'>,\n",
      "            {'pH': {'GRN': 'Data/3_GRN_data/GSE30166_pH_regnet_small.tsv',\n",
      "                    'WGCNA': {'EDGE': 'Data/2_WGCNA_Data/WGCNA_GSE30166_pH/CytoscapeInput-edges-pH_Anno.txt',\n",
      "                              'NODE': 'Data/2_WGCNA_Data/WGCNA_GSE30166_pH/CytoscapeInput-nodes-pH_Anno.txt'}}})\n"
     ]
    }
   ],
   "source": [
    "POT.Load_Files(Sample_name=\"pH\",\n",
    "               NODE_File=\"Data/2_WGCNA_Data/WGCNA_GSE30166_pH/CytoscapeInput-nodes-pH_Anno.txt\",\n",
    "               EDGE_File=\"Data/2_WGCNA_Data/WGCNA_GSE30166_pH/CytoscapeInput-edges-pH_Anno.txt\",\n",
    "               GRN_File=\"Data/3_GRN_data/GSE30166_pH_regnet_small.tsv\")"
   ]
  },
  {
   "cell_type": "markdown",
   "id": "d3ac665b-cade-47b4-9003-b29d3100dfbc",
   "metadata": {},
   "source": [
    "## LOAD 'Sulfur' Files"
   ]
  },
  {
   "cell_type": "code",
   "execution_count": 28,
   "id": "44781e74-61e7-45d7-a1ce-40b7a59d3785",
   "metadata": {},
   "outputs": [
    {
     "name": "stdout",
     "output_type": "stream",
     "text": [
      "Sulfur\n",
      "🍲Sample Sulfur\n",
      "Data/3_GRN_data/GSE30166_Sulfur_regnet_small.tsv\n",
      "defaultdict(<class 'dict'>,\n",
      "            {'Sulfur': {'GRN': 'Data/3_GRN_data/GSE30166_Sulfur_regnet_small.tsv',\n",
      "                        'WGCNA': {'EDGE': 'Data/2_WGCNA_Data/WGCNA_GSE30166_S/CytoscapeInput-edges-sulfur_Anno.txt',\n",
      "                                  'NODE': 'Data/2_WGCNA_Data/WGCNA_GSE30166_S/CytoscapeInput-nodes-sulfur_Anno.txt'}},\n",
      "             'pH': {'GRN': 'Data/3_GRN_data/GSE30166_pH_regnet_small.tsv',\n",
      "                    'WGCNA': {'EDGE': 'Data/2_WGCNA_Data/WGCNA_GSE30166_pH/CytoscapeInput-edges-pH_Anno.txt',\n",
      "                              'NODE': 'Data/2_WGCNA_Data/WGCNA_GSE30166_pH/CytoscapeInput-nodes-pH_Anno.txt'}}})\n",
      "🍲 Files None\n",
      "defaultdict(<class 'dict'>,\n",
      "            {'Sulfur': {'GRN': 'Data/3_GRN_data/GSE30166_Sulfur_regnet_small.tsv',\n",
      "                        'WGCNA': {'EDGE': 'Data/2_WGCNA_Data/WGCNA_GSE30166_S/CytoscapeInput-edges-sulfur_Anno.txt',\n",
      "                                  'NODE': 'Data/2_WGCNA_Data/WGCNA_GSE30166_S/CytoscapeInput-nodes-sulfur_Anno.txt'}},\n",
      "             'pH': {'GRN': 'Data/3_GRN_data/GSE30166_pH_regnet_small.tsv',\n",
      "                    'WGCNA': {'EDGE': 'Data/2_WGCNA_Data/WGCNA_GSE30166_pH/CytoscapeInput-edges-pH_Anno.txt',\n",
      "                              'NODE': 'Data/2_WGCNA_Data/WGCNA_GSE30166_pH/CytoscapeInput-nodes-pH_Anno.txt'}}})\n"
     ]
    }
   ],
   "source": [
    "POT.Load_Files(Sample_name=\"Sulfur\",\n",
    "               NODE_File=\"Data/2_WGCNA_Data/WGCNA_GSE30166_S/CytoscapeInput-nodes-sulfur_Anno.txt\",\n",
    "               EDGE_File=\"Data/2_WGCNA_Data/WGCNA_GSE30166_S/CytoscapeInput-edges-sulfur_Anno.txt\",\n",
    "               GRN_File=\"Data/3_GRN_data/GSE30166_Sulfur_regnet_small.tsv\")"
   ]
  },
  {
   "cell_type": "markdown",
   "id": "27833f49-e7e4-4fd6-840b-9d107bdf678c",
   "metadata": {},
   "source": [
    "## Define Samples "
   ]
  },
  {
   "cell_type": "code",
   "execution_count": 29,
   "id": "b4998a2d-09b1-4127-8d32-ddbb52670e75",
   "metadata": {},
   "outputs": [
    {
     "name": "stdout",
     "output_type": "stream",
     "text": [
      "0 pH\n",
      "1 Sulfur\n"
     ]
    }
   ],
   "source": [
    "Samples = POT.Samples\n",
    "for i in range(len(Samples)):\n",
    "    print(i, Samples[i])"
   ]
  },
  {
   "cell_type": "markdown",
   "id": "0c8ce7a3-5614-44ad-9f58-21d0444d8534",
   "metadata": {},
   "source": [
    "## Create GMT file for both samples for enrichment analysis"
   ]
  },
  {
   "cell_type": "code",
   "execution_count": 30,
   "id": "1800f499-ca67-4725-af72-2e6649981055",
   "metadata": {},
   "outputs": [
    {
     "name": "stdout",
     "output_type": "stream",
     "text": [
      "GMT_base/POTFUL-pH.gmt 2285\n",
      "GMT_base/POTFUL-Sulfur.gmt 8751\n"
     ]
    }
   ],
   "source": [
    "POT.WGCNA_Bucket_GMT()"
   ]
  },
  {
   "cell_type": "code",
   "execution_count": 31,
   "id": "da9ed1d9-87f9-4709-9c81-8c2577ce8ff6",
   "metadata": {},
   "outputs": [
    {
     "name": "stdout",
     "output_type": "stream",
     "text": [
      "GMT_base/POTFUL-pH.gmt\n",
      "GMT_base/POTFUL-Sulfur.gmt\n"
     ]
    }
   ],
   "source": [
    "for i in range(len(Samples)):\n",
    "    print((POT.File[Samples[i]]['GMT']))\n"
   ]
  },
  {
   "cell_type": "markdown",
   "id": "0555e8eb-efb5-4fea-a8a9-165603747318",
   "metadata": {},
   "source": [
    "## Plot WGCNA module barplot (pH)"
   ]
  },
  {
   "cell_type": "code",
   "execution_count": 32,
   "id": "f5e60893-7e06-44c1-b642-5dad377b1589",
   "metadata": {},
   "outputs": [],
   "source": [
    "# POT.Plots[Samples[0]]['WGCNA_BarPlot']"
   ]
  },
  {
   "cell_type": "markdown",
   "id": "c3a47e99-bf12-44a3-b77c-6750976dbab0",
   "metadata": {},
   "source": [
    "![](POTFUL_OUT/BP_pH.png)"
   ]
  },
  {
   "cell_type": "markdown",
   "id": "a7a49169-2ee2-48aa-a0b4-0f411dc3fb67",
   "metadata": {},
   "source": [
    "## Plot WGCNA module barplot (Sulfur)"
   ]
  },
  {
   "cell_type": "code",
   "execution_count": 33,
   "id": "f45f6007-5b72-4617-974a-971bd9fcdfcd",
   "metadata": {},
   "outputs": [],
   "source": [
    "# POT.Plots[Samples[1]]['WGCNA_BarPlot']"
   ]
  },
  {
   "cell_type": "markdown",
   "id": "eb825fcb-aa43-4236-a8a8-5037c1d3bbfc",
   "metadata": {},
   "source": [
    "![](POTFUL_OUT/BP_S.png)"
   ]
  },
  {
   "cell_type": "markdown",
   "id": "e156e418-88ef-4d7d-9320-0675e57df82b",
   "metadata": {},
   "source": [
    "## WGCNA module wise enrichment pH vs Sulfur"
   ]
  },
  {
   "cell_type": "code",
   "execution_count": 34,
   "id": "c60eb827-e3e6-46d7-9f46-17f6eb621bc6",
   "metadata": {},
   "outputs": [
    {
     "name": "stdout",
     "output_type": "stream",
     "text": [
      "pH Sulfur\n",
      "\n",
      "Total Number of genes in 9818\n",
      "   Gene_set (Sulfur)    Term (pH)  Overlap       P-value  Adjusted P-value  \\\n",
      "4               brown  greenyellow   16/55  2.413916e-04      1.206958e-03   \n",
      "6               brown       purple  27/101  1.158990e-05      1.158990e-04   \n",
      "5                blue      magenta   53/65  2.820830e-36      3.384996e-35   \n",
      "9                blue          tan   10/28  1.837008e-03      7.348033e-03   \n",
      "11               blue       yellow  70/342  4.946267e-05      2.967760e-04   \n",
      "2              purple        brown  59/525  3.134986e-09      2.507989e-08   \n",
      "4              purple  greenyellow    8/55  5.797093e-03      2.318837e-02   \n",
      "3                pink        green  19/142  4.441150e-04      4.441150e-03   \n",
      "0                grey          red   3/163  1.993401e-02      3.986801e-02   \n",
      "\n",
      "    Odds Ratio Significance                                              Genes  \n",
      "4     2.671571           **  250533_at;263134_at;265846_at;251827_at;259443...  \n",
      "6     2.447996          ***  246538_at;252413_at;253116_at;256143_at;266705...  \n",
      "5     6.538038          ***  258939_at;267477_at;260284_at;255381_at;246114...  \n",
      "9     2.859315           **  252464_at;257832_at;247726_at;262452_at;267254...  \n",
      "11    1.623502          ***  247895_at;246652_at;248200_at;256848_at;253244...  \n",
      "2     2.421775          ***  259479_at;252131_at;254241_at;259442_at;246576...  \n",
      "4     3.079940            *  254201_at;250576_at;249881_at;249203_at;250230...  \n",
      "3     2.440834           **  261771_at;257807_at;261534_at;265457_at;254797...  \n",
      "0     6.359774            *                      256200_at;252808_at;252777_at  \n"
     ]
    }
   ],
   "source": [
    "POT.WGCNA_Module_Enrichment(Samples[0], Samples[1])\n",
    "\n",
    "print(POT.Data[\"Enrichment_Dotplot\"])\n",
    "# POT.Plots[\"Enrichment_Dotplot\"]"
   ]
  },
  {
   "cell_type": "markdown",
   "id": "b8cbb6f9-53d7-49ce-9161-ac31459e93c1",
   "metadata": {},
   "source": [
    "!['Enrichment_pH_S'](POTFUL_OUT/pH__SulfurEnri_dot.png)"
   ]
  },
  {
   "cell_type": "markdown",
   "id": "2ff46a29-bffd-4920-b8db-e789d8badfe2",
   "metadata": {},
   "source": [
    "## TF Network overlap"
   ]
  },
  {
   "cell_type": "code",
   "execution_count": 35,
   "id": "c08a3590-df3f-44df-ba69-4a3f42aad285",
   "metadata": {},
   "outputs": [
    {
     "name": "stdout",
     "output_type": "stream",
     "text": [
      "pH Auxiliary_File/masterTF-target.txt Data/3_GRN_data/GSE30166_pH_regnet_small.tsv\n",
      "Total number of TFT pairs in Auxiliary_File/masterTF-target.txt :2357032\n",
      "Scaled Dataset Using Pandas\n",
      "Total number of TFT pairs in Data/3_GRN_data/GSE30166_pH_regnet_small.tsv :281\n",
      "Total number of common pairs:281\n",
      "Total number of common pairs:281\n",
      "Sulfur Auxiliary_File/masterTF-target.txt Data/3_GRN_data/GSE30166_Sulfur_regnet_small.tsv\n",
      "Total number of TFT pairs in Auxiliary_File/masterTF-target.txt :2357032\n",
      "Scaled Dataset Using Pandas\n",
      "Total number of TFT pairs in Data/3_GRN_data/GSE30166_Sulfur_regnet_small.tsv :232\n",
      "Total number of common pairs:232\n",
      "Total number of common pairs:232\n"
     ]
    }
   ],
   "source": [
    "POT.merge_TF_reg(Samples[0])\n",
    "POT.merge_TF_reg(Samples[1])"
   ]
  },
  {
   "cell_type": "markdown",
   "id": "4757aaa7-1609-4118-aeba-0763c44f8589",
   "metadata": {},
   "source": [
    "## TF Co-expression Network overlap"
   ]
  },
  {
   "cell_type": "code",
   "execution_count": 36,
   "id": "5d47a4c5-e935-44c9-b4f2-e281d4bcf4c3",
   "metadata": {},
   "outputs": [
    {
     "name": "stdout",
     "output_type": "stream",
     "text": [
      "Data/2_WGCNA_Data/WGCNA_GSE30166_pH/CytoscapeInput-edges-pH_Anno.txt\n",
      "Total number of coexpressed combo-pairs:49279\n",
      "Total number of common pairs:281\n",
      "Total number of common pairs:281\n",
      "POTFUL_OUT/pH_Coexp_GRN.tsv DiGraph with 201 nodes and 281 edges\n",
      "Data/2_WGCNA_Data/WGCNA_GSE30166_S/CytoscapeInput-edges-sulfur_Anno.txt\n",
      "Total number of coexpressed combo-pairs:64747\n",
      "Total number of common pairs:232\n",
      "Total number of common pairs:232\n",
      "POTFUL_OUT/Sulfur_Coexp_GRN.tsv DiGraph with 238 nodes and 232 edges\n"
     ]
    }
   ],
   "source": [
    "POT.merge_reg_coexp(Samples[0])\n",
    "POT.merge_reg_coexp(Samples[1])"
   ]
  },
  {
   "cell_type": "markdown",
   "id": "fba0392a-a3f5-4aa0-9971-63d2bcab0b85",
   "metadata": {},
   "source": [
    "## Network centrality analysis"
   ]
  },
  {
   "cell_type": "code",
   "execution_count": 37,
   "id": "fec576fb-b698-4b2d-9e62-f0a4c1ce944e",
   "metadata": {},
   "outputs": [
    {
     "name": "stdout",
     "output_type": "stream",
     "text": [
      "DiGraph with 201 nodes and 281 edges\n",
      "DiGraph with 201 nodes and 281 edges\n",
      "Degree Dict True\n",
      "Betweenness Dict True\n",
      "Degree Dict True\n",
      "clust Dict True\n",
      "DiGraph with 238 nodes and 232 edges\n",
      "DiGraph with 238 nodes and 232 edges\n",
      "Degree Dict True\n",
      "Betweenness Dict True\n",
      "Degree Dict True\n",
      "clust Dict True\n"
     ]
    }
   ],
   "source": [
    "POT.network_centrality(Samples[0])\n",
    "POT.network_centrality(Samples[1])"
   ]
  },
  {
   "cell_type": "markdown",
   "id": "f91ea333-5ca5-4dde-ab98-94feab7c443a",
   "metadata": {},
   "source": [
    "### Save GraphML file"
   ]
  },
  {
   "cell_type": "code",
   "execution_count": 38,
   "id": "d92784a9-56c4-4df5-83a5-a9b10201349e",
   "metadata": {},
   "outputs": [
    {
     "name": "stdout",
     "output_type": "stream",
     "text": [
      "DiGraph with 201 nodes and 281 edges\n",
      "DiGraph with 238 nodes and 232 edges\n"
     ]
    }
   ],
   "source": [
    "POT.generate_graphml_out(Samples[0])\n",
    "POT.generate_graphml_out(Samples[1])"
   ]
  },
  {
   "cell_type": "markdown",
   "id": "7927ae29-ceec-49bd-a67c-a70b203e9684",
   "metadata": {},
   "source": [
    "## Generate network visualization html file"
   ]
  },
  {
   "cell_type": "code",
   "execution_count": 39,
   "id": "b4b7fe51-de27-476a-be8f-48b261b69c1e",
   "metadata": {},
   "outputs": [],
   "source": [
    "POT.Graph_vis(Samples[0])\n",
    "POT.Graph_vis(Samples[1])"
   ]
  },
  {
   "cell_type": "markdown",
   "id": "1f2ce74f-133a-4722-b044-b502915fb87b",
   "metadata": {},
   "source": [
    "### Display html graph file (pH)"
   ]
  },
  {
   "cell_type": "code",
   "execution_count": 40,
   "id": "684fd573-0e0c-4ade-b3da-96bc766e7c8a",
   "metadata": {},
   "outputs": [],
   "source": [
    "# POT.Plots[Samples[0]]['Network_Viz'].show('pH.html')"
   ]
  },
  {
   "cell_type": "markdown",
   "id": "4ea09fa0-385b-43a5-8901-6bba2f1229f9",
   "metadata": {},
   "source": [
    "![pH](POTFUL_OUT/pH.png)"
   ]
  },
  {
   "cell_type": "markdown",
   "id": "afd0fc16-1b83-4d99-b41c-5d10692a0f69",
   "metadata": {},
   "source": [
    "### Display html graph file (pH)"
   ]
  },
  {
   "cell_type": "code",
   "execution_count": 41,
   "id": "3b7b3450-5cbb-44a8-801d-bce1dcd982f0",
   "metadata": {},
   "outputs": [],
   "source": [
    "# POT.Plots[Samples[1]]['Network_Viz'].show('Sulfur.html')"
   ]
  },
  {
   "cell_type": "markdown",
   "id": "f6ae564c-e602-40f3-8db1-dc10577189ce",
   "metadata": {},
   "source": [
    "![Sulfur](POTFUL_OUT/S.png)"
   ]
  },
  {
   "cell_type": "code",
   "execution_count": 42,
   "id": "82e65d81-0260-4335-a726-f468e8cb4a63",
   "metadata": {},
   "outputs": [
    {
     "name": "stdout",
     "output_type": "stream",
     "text": [
      "🍲 👌 There are 16 nodes overlapping between pair of Graphs\n",
      "{'AT5G25930', 'AT1G74840', 'AT1G25400', 'AT5G28770', 'AT4G37390', 'AT3G12820', 'AT2G15890', 'AT1G28330', 'AT1G18570', 'AT5G13080', 'AT1G80920', 'AT5G24490', 'AT3G23250', 'AT1G02520', 'AT1G27730', 'AT2G38470'}\n"
     ]
    }
   ],
   "source": [
    "POT.netowork_overlap(Samples[0], Samples[1])"
   ]
  },
  {
   "cell_type": "markdown",
   "id": "9b9fc573-32f1-4a36-9011-fb5575beefec",
   "metadata": {},
   "source": [
    "### Display html graph file (pH and Sulfur overlap)"
   ]
  },
  {
   "cell_type": "code",
   "execution_count": 43,
   "id": "a11f949c-2763-4dfc-89da-76b307603e59",
   "metadata": {},
   "outputs": [],
   "source": [
    "# POT.Plots['Overlap_Network_Viz'].show('Overlap.html')"
   ]
  },
  {
   "cell_type": "markdown",
   "id": "0064ad1e-1cbd-4cca-bb74-ac214ae2c1d6",
   "metadata": {},
   "source": [
    "![pH_S](POTFUL_OUT/pH_S.png)"
   ]
  },
  {
   "cell_type": "markdown",
   "id": "0cb0408d-9516-486b-a9fe-4666513662bf",
   "metadata": {},
   "source": [
    "### List all plots"
   ]
  },
  {
   "cell_type": "code",
   "execution_count": 44,
   "id": "2e12aa0c-786d-440e-bf24-02221f228286",
   "metadata": {},
   "outputs": [
    {
     "data": {
      "text/plain": [
       "['pH', 'Sulfur', 'Enrichment_Dotplot', 'pH_Sulfur_Overlap_Network_Viz']"
      ]
     },
     "execution_count": 44,
     "metadata": {},
     "output_type": "execute_result"
    }
   ],
   "source": [
    "list(POT.Plots)"
   ]
  },
  {
   "cell_type": "code",
   "execution_count": 45,
   "id": "308fb1e5-9385-4237-af88-a2a3e575626e",
   "metadata": {},
   "outputs": [],
   "source": [
    "### Print POT structure"
   ]
  },
  {
   "cell_type": "code",
   "execution_count": 46,
   "id": "dd17d82b-a122-463d-a37c-cc1c724c6b9b",
   "metadata": {},
   "outputs": [],
   "source": [
    "# dict(POT.Data)"
   ]
  },
  {
   "cell_type": "code",
   "execution_count": 47,
   "id": "6a365632-4a1a-442e-8a3a-679efd76ad18",
   "metadata": {},
   "outputs": [
    {
     "name": "stdout",
     "output_type": "stream",
     "text": [
      "-----\n",
      "POTFUL              0.1.0\n",
      "session_info        1.0.0\n",
      "-----\n",
      "IPython             8.5.0\n",
      "jupyter_client      7.3.5\n",
      "jupyter_core        4.11.1\n",
      "jupyterlab          3.4.7\n",
      "notebook            6.4.12\n",
      "-----\n",
      "Python 3.9.13 | packaged by conda-forge | (main, May 27 2022, 17:00:52) [Clang 13.0.1 ]\n",
      "macOS-12.6-x86_64-i386-64bit\n",
      "-----\n",
      "Session information updated at 2022-09-22 11:44\n"
     ]
    }
   ],
   "source": [
    "import session_info\n",
    "session_info.show(html=False)\n"
   ]
  },
  {
   "cell_type": "code",
   "execution_count": null,
   "id": "631c0c66-7413-4718-94b6-44e678bf728f",
   "metadata": {},
   "outputs": [],
   "source": []
  }
 ],
 "metadata": {
  "kernelspec": {
   "display_name": "Python 3 (ipykernel)",
   "language": "python",
   "name": "python3"
  },
  "language_info": {
   "codemirror_mode": {
    "name": "ipython",
    "version": 3
   },
   "file_extension": ".py",
   "mimetype": "text/x-python",
   "name": "python",
   "nbconvert_exporter": "python",
   "pygments_lexer": "ipython3",
   "version": "3.9.13"
  }
 },
 "nbformat": 4,
 "nbformat_minor": 5
}
